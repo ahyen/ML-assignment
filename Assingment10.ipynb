{
  "nbformat": 4,
  "nbformat_minor": 0,
  "metadata": {
    "colab": {
      "name": "Assingment10",
      "provenance": [],
      "collapsed_sections": [],
      "mount_file_id": "1WXDo2PQ6y_ItHeQaucdH1tcVlFMDUvuW",
      "authorship_tag": "ABX9TyMiJhYv/Tb4ONRSR8SKoJzF",
      "include_colab_link": true
    },
    "kernelspec": {
      "name": "python3",
      "display_name": "Python 3"
    },
    "accelerator": "GPU"
  },
  "cells": [
    {
      "cell_type": "markdown",
      "metadata": {
        "id": "view-in-github",
        "colab_type": "text"
      },
      "source": [
        "<a href=\"https://colab.research.google.com/github/ahyen/ML-assignment/blob/master/Assingment10.ipynb\" target=\"_parent\"><img src=\"https://colab.research.google.com/assets/colab-badge.svg\" alt=\"Open In Colab\"/></a>"
      ]
    },
    {
      "cell_type": "code",
      "metadata": {
        "id": "Mq0kyL3av1SS",
        "colab_type": "code",
        "outputId": "b10299ac-7392-4b18-bb51-1c0b24a17fe1",
        "colab": {
          "base_uri": "https://localhost:8080/",
          "height": 35
        }
      },
      "source": [
        "cd ../content/drive/My Drive/Colab Notebooks/ML"
      ],
      "execution_count": 3,
      "outputs": [
        {
          "output_type": "stream",
          "text": [
            "/content/drive/My Drive/Colab Notebooks/ML\n"
          ],
          "name": "stdout"
        }
      ]
    },
    {
      "cell_type": "code",
      "metadata": {
        "id": "tzR1L8K4vDOf",
        "colab_type": "code",
        "colab": {}
      },
      "source": [
        "import matplotlib.pyplot as plt\n",
        "import numpy as np\n",
        "\n",
        "file_data   = \"mnist.csv\"\n",
        "handle_file = open(file_data, \"r\")\n",
        "data        = handle_file.readlines()\n",
        "handle_file.close()\n",
        "\n",
        "size_row    = 28    # height of the image\n",
        "size_col    = 28    # width of the image\n",
        "\n",
        "num_image   = len(data)\n",
        "count       = 0     # count for the number of images\n",
        "\n",
        "#\n",
        "# normalize the values of the input data to be [0, 1]\n",
        "#\n",
        "def normalize(data):\n",
        "    data_normalized = (data - min(data)) / (max(data) - min(data))\n",
        "    return(data_normalized)\n",
        "\n",
        "#\n",
        "# example of distance function between two vectors x and y\n",
        "#\n",
        "def distance(x, y):\n",
        "    d = (x - y) ** 2\n",
        "    s = np.sum(d)\n",
        "    # r = np.sqrt(s)\n",
        "    return(s)\n",
        "\n",
        "#\n",
        "# make a matrix each column of which represents an images in a vector form\n",
        "#\n",
        "list_image  = np.empty((size_row * size_col, num_image), dtype=float)\n",
        "list_label  = np.empty(num_image, dtype=int)\n",
        "\n",
        "for line in data:\n",
        "\n",
        "    line_data   = line.split(',')\n",
        "    label       = line_data[0]\n",
        "    im_vector   = np.asfarray(line_data[1:])\n",
        "    im_vector   = normalize(im_vector)\n",
        "\n",
        "    list_label[count]       = label\n",
        "    list_image[:, count]    = im_vector\n",
        "\n",
        "    count += 1"
      ],
      "execution_count": 0,
      "outputs": []
    },
    {
      "cell_type": "code",
      "metadata": {
        "id": "sLzMEzS3RQyc",
        "colab_type": "code",
        "colab": {}
      },
      "source": [
        "#split data to train and test\n",
        "x = list_image[:, 0 : 1000]\n",
        "x_test = list_image[:, 1000 :]\n",
        "\n",
        "label = list_label[0 : 1000]\n",
        "label_test = list_label[1000 :]\n",
        "label_one_hot = np.eye(10)[label]\n",
        "label_test_one_hot = np.eye(10)[label_test]"
      ],
      "execution_count": 0,
      "outputs": []
    },
    {
      "cell_type": "code",
      "metadata": {
        "id": "VyjM3zKF6w1j",
        "colab_type": "code",
        "colab": {}
      },
      "source": [
        "#set training parameter\n",
        "np.random.seed(100)\n",
        "u = np.random.randn(196, 784)\n",
        "v = np.random.randn(49, 196)\n",
        "w = np.random.randn(10, 49)\n",
        "bias1 = np.random.randn(1)\n",
        "bias2 = np.random.randn(1)\n",
        "bias3 = np.random.randn(1)"
      ],
      "execution_count": 0,
      "outputs": []
    },
    {
      "cell_type": "code",
      "metadata": {
        "id": "cuCAWGeOD7rp",
        "colab_type": "code",
        "colab": {
          "base_uri": "https://localhost:8080/",
          "height": 295
        },
        "outputId": "d8435c83-5477-4082-dd99-069e4839feba"
      },
      "source": [
        "learning_rate = 0.01\n",
        "lambda_ = 0.0001\n",
        "cost_list = []\n",
        "accuracy_list = []\n",
        "test_cost_list = []\n",
        "test_accuracy_list = []\n",
        "\n",
        "for epoch in range(1000):\n",
        "  correct = 0\n",
        "  correct_test = 0\n",
        "  if epoch >800:\n",
        "    learning_rate = 0.0001\n",
        "  for i in range(1000):\n",
        "    x_train = x[:, i]\n",
        "    label = label_one_hot[i]\n",
        "\n",
        "    #first hidden layer\n",
        "    y_ = (np.dot(u, x_train)) + bias1\n",
        "    y = 1/(1+np.exp(-y_))\n",
        "\n",
        "    #second hidden layer\n",
        "    z_ = (np.dot(v, y)) + bias2\n",
        "    z = 1/(1+np.exp(-z_))\n",
        "\n",
        "    #output layer\n",
        "    h_ = (np.dot(w, z)) + bias3\n",
        "    h = 1/(1+np.exp(-h_))\n",
        "\n",
        "    # accuracy\n",
        "    if (h.argmax() == label.argmax()):\n",
        "      correct += 1\n",
        "\n",
        "    #cost\n",
        "    cost =+ np.sum(- label * np.log(h) - (1- label)*np.log(1 - h)) + (lambda_/327516) * (np.sum(w*w) + np.sum(v*v) + np.sum(u*u))\n",
        "    \n",
        "    delta3 = (h - label) * h * (1 - h)\n",
        "    bias3 = bias3 - learning_rate * delta3\n",
        "\n",
        "    delta2 = np.dot(w.T, delta3) * z * (1 - z)\n",
        "    bias2 = bias2 - learning_rate * delta2\n",
        "\n",
        "    delta1 = np.dot(v.T, delta2) * y * (1 - y)\n",
        "    bias1 = bias1 - learning_rate * delta1\n",
        "\n",
        "    #Gradient descent\n",
        "    w = w - learning_rate * (np.dot(delta3.reshape(10, 1), z.reshape(1, 49)) + (lambda_/490)*w)\n",
        "    v = v - learning_rate * (np.dot(delta2.reshape(49, 1), y.reshape(1, 196)) + (lambda_/49*196)*v)\n",
        "    u = u - learning_rate * (np.dot(delta1.reshape(196, 1), x_train.reshape(1, 784)) + (lambda_/196*784)*u)\n",
        "\n",
        "  accuracy_list.append(correct/1000)\n",
        "  print(epoch, \":\", correct/1000)\n",
        "  cost_list.append(cost/1000)\n",
        "  \n",
        "  for i in range(9000):\n",
        "    x_test_data = x_test[:, i]\n",
        "    label_test = label_test_one_hot[i]\n",
        "\n",
        "    test_y_ = (np.dot(u, x_test_data)) + bias1\n",
        "    test_y = 1/(1+np.exp(-test_y_))\n",
        "\n",
        "    test_z_ = (np.dot(v, test_y)) + bias2\n",
        "    test_z = 1/(1+np.exp(-test_z_))\n",
        "\n",
        "    test_h_ = (np.dot(w, test_z)) + bias3\n",
        "    test_h = 1/(1+np.exp(-test_h_))\n",
        "\n",
        "    if (test_h.argmax() == label_test.argmax()):\n",
        "      correct_test += 1\n",
        "\n",
        "    test_cost =+ np.sum(- label_test * np.log(test_h) - (1- label_test)*np.log(1 - test_h)) +  (lambda_/327516) * (np.sum(w*w) + np.sum(v*v) + np.sum(u*u))\n",
        "  test_accuracy_list.append(correct_test/9000)\n",
        "  print(\"test:\" , correct_test/9000)\n",
        "  test_cost_list.append(test_cost/9000)"
      ],
      "execution_count": 0,
      "outputs": [
        {
          "output_type": "stream",
          "text": [
            "0 : 0.165\n",
            "test: 0.173\n",
            "1 : 0.219\n",
            "test: 0.188\n",
            "2 : 0.245\n",
            "test: 0.20377777777777778\n",
            "3 : 0.259\n",
            "test: 0.214\n",
            "4 : 0.271\n",
            "test: 0.22433333333333333\n",
            "5 : 0.29\n",
            "test: 0.23333333333333334\n",
            "6 : 0.3\n",
            "test: 0.24388888888888888\n",
            "7 : 0.317\n",
            "test: 0.2521111111111111\n"
          ],
          "name": "stdout"
        }
      ]
    },
    {
      "cell_type": "code",
      "metadata": {
        "id": "4vxTwMo4ZUeF",
        "colab_type": "code",
        "colab": {}
      },
      "source": [
        "#test using final parameter\n",
        "classified_list = []\n",
        "misclassified_list = []\n",
        "predict_list = []\n",
        "for i in range(9000):\n",
        "  x_test_data = x_test[:, i]\n",
        "  label_test = label_test_one_hot[i]\n",
        "\n",
        "  test_y_ = (np.dot(u, x_test_data)) + bias1\n",
        "  test_y = 1/(1 + np.exp(-test_y_))\n",
        "  \n",
        "  test_z_ = (np.dot(v, test_y)) + bias2\n",
        "  test_z = 1/(1+np.exp(-test_z_))\n",
        "\n",
        "  test_h_ = (np.dot(w, test_z)) + bias3\n",
        "  test_h = 1/(1+np.exp(-test_h_))\n",
        "\n",
        "  if (test_h.argmax() == label_test.argmax()):\n",
        "    classified_list.append(i)\n",
        "  else:\n",
        "    misclassified_list.append(i)\n",
        "  predict_list.append(test_h.argmax())"
      ],
      "execution_count": 0,
      "outputs": []
    },
    {
      "cell_type": "markdown",
      "metadata": {
        "id": "1lgpiM-Vjufj",
        "colab_type": "text"
      },
      "source": [
        "\n",
        "\n",
        "---\n",
        "\n",
        "# **Result**"
      ]
    },
    {
      "cell_type": "markdown",
      "metadata": {
        "id": "Tj4v61VcjyeD",
        "colab_type": "text"
      },
      "source": [
        "### **1. Plot the loss curve**"
      ]
    },
    {
      "cell_type": "code",
      "metadata": {
        "id": "epCZNr5EkeB9",
        "colab_type": "code",
        "outputId": "842c8309-0b6b-4a63-b807-5046f78d450b",
        "colab": {
          "base_uri": "https://localhost:8080/",
          "height": 281
        }
      },
      "source": [
        "plt.plot(range(0, 1000), cost_list, 'b', label = 'training loss')\n",
        "plt.plot(range(0, 1000), test_cost_list, 'r', label = 'testing loss')\n",
        "plt.title('loss')\n",
        "plt.legend()\n",
        "plt.show()"
      ],
      "execution_count": 34,
      "outputs": [
        {
          "output_type": "display_data",
          "data": {
            "image/png": "[encoded data removed]",
            "text/plain": [
              "<Figure size 432x288 with 1 Axes>"
            ]
          },
          "metadata": {
            "tags": [],
            "needs_background": "light"
          }
        }
      ]
    },
    {
      "cell_type": "markdown",
      "metadata": {
        "id": "nGre9CXNjy7p",
        "colab_type": "text"
      },
      "source": [
        "### **2. Plot the accuracy curve**"
      ]
    },
    {
      "cell_type": "code",
      "metadata": {
        "id": "dHZ6LcWeki6K",
        "colab_type": "code",
        "outputId": "83069a16-4bab-41cf-d5ab-c582dd2bbb4c",
        "colab": {
          "base_uri": "https://localhost:8080/",
          "height": 281
        }
      },
      "source": [
        "plt.plot(range(0, 1000), accuracy_list, 'b', label = 'training accuracy')\n",
        "plt.plot(range(0, 1000), test_accuracy_list, 'r', label = 'testing accuracy')\n",
        "plt.title('accuracy')\n",
        "plt.legend()\n",
        "plt.show()"
      ],
      "execution_count": 35,
      "outputs": [
        {
          "output_type": "display_data",
          "data": {
            "image/png": "[encoded data removed]",
            "text/plain": [
              "<Figure size 432x288 with 1 Axes>"
            ]
          },
          "metadata": {
            "tags": [],
            "needs_background": "light"
          }
        }
      ]
    },
    {
      "cell_type": "markdown",
      "metadata": {
        "id": "wAcQ1yK3jzZb",
        "colab_type": "text"
      },
      "source": [
        "### **3. Plot the accuracy value**"
      ]
    },
    {
      "cell_type": "code",
      "metadata": {
        "id": "FnNoN0TtkjTZ",
        "colab_type": "code",
        "outputId": "8dcb8260-3bc5-44f6-e4f9-d64d83d48668",
        "colab": {
          "base_uri": "https://localhost:8080/",
          "height": 52
        }
      },
      "source": [
        "print(\"final training accuracy : \", accuracy_list[-1] * 100, \"%\")\n",
        "print(\"final testing accuracy : \", test_accuracy_list[-1] * 100, \"%\")"
      ],
      "execution_count": 36,
      "outputs": [
        {
          "output_type": "stream",
          "text": [
            "final training accuracy :  99.9 %\n",
            "final testing accuracy :  88.0111111111111 %\n"
          ],
          "name": "stdout"
        }
      ]
    },
    {
      "cell_type": "markdown",
      "metadata": {
        "id": "rnIR-ZZBjz9p",
        "colab_type": "text"
      },
      "source": [
        "### **4. Plot the classification**"
      ]
    },
    {
      "cell_type": "markdown",
      "metadata": {
        "id": "xMooBDHL3O_4",
        "colab_type": "text"
      },
      "source": [
        "**correctly classified testing images**"
      ]
    },
    {
      "cell_type": "code",
      "metadata": {
        "id": "1vHRsxY-ZPsC",
        "colab_type": "code",
        "outputId": "cb4cfb5d-8f2b-4144-e987-0aa74cbb7a27",
        "colab": {
          "base_uri": "https://localhost:8080/",
          "height": 227
        }
      },
      "source": [
        "for i in range(10):\n",
        "    index = classified_list[i]\n",
        "    plt.subplot(2, 5, i+1)\n",
        "    plt.title(predict_list[index])\n",
        "    plt.imshow(x_test[:, index].reshape((size_row, size_col)), cmap='Greys', interpolation='None')\n",
        "\n",
        "    frame   = plt.gca()\n",
        "    frame.axes.get_xaxis().set_visible(False)\n",
        "    frame.axes.get_yaxis().set_visible(False)\n",
        "\n",
        "plt.show()\n"
      ],
      "execution_count": 37,
      "outputs": [
        {
          "output_type": "display_data",
          "data": {
            "image/png": "[encoded data removed]",
            "text/plain": [
              "<Figure size 432x288 with 10 Axes>"
            ]
          },
          "metadata": {
            "tags": [],
            "needs_background": "light"
          }
        }
      ]
    },
    {
      "cell_type": "markdown",
      "metadata": {
        "id": "EDlmC_ZM3V-f",
        "colab_type": "text"
      },
      "source": [
        "**misclassified testing images**"
      ]
    },
    {
      "cell_type": "code",
      "metadata": {
        "id": "ON62ikCozlLR",
        "colab_type": "code",
        "outputId": "6a5cecb6-8740-42f2-dfdf-3fcc61cef1b0",
        "colab": {
          "base_uri": "https://localhost:8080/",
          "height": 227
        }
      },
      "source": [
        "for i in range(10):\n",
        "    index = misclassified_list[i]\n",
        "    plt.subplot(2, 5, i+1)\n",
        "    plt.title(predict_list[index])\n",
        "    plt.imshow(x_test[:, index].reshape((size_row, size_col)), cmap='Greys', interpolation='None')\n",
        "\n",
        "    frame   = plt.gca()\n",
        "    frame.axes.get_xaxis().set_visible(False)\n",
        "    frame.axes.get_yaxis().set_visible(False)\n",
        "\n",
        "plt.show()"
      ],
      "execution_count": 38,
      "outputs": [
        {
          "output_type": "display_data",
          "data": {
            "image/png": "[encoded data removed]",
            "text/plain": [
              "<Figure size 432x288 with 10 Axes>"
            ]
          },
          "metadata": {
            "tags": [],
            "needs_background": "light"
          }
        }
      ]
    }
  ]
}
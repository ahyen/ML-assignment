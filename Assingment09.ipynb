{
  "nbformat": 4,
  "nbformat_minor": 0,
  "metadata": {
    "colab": {
      "name": "Assingment09.ipynb",
      "provenance": [],
      "collapsed_sections": [],
      "mount_file_id": "1FCoWD38YDVFI1YPMmWwSaMCjrztjRl4E",
      "authorship_tag": "ABX9TyNvozPkPTo1xuuwh2yezhyN",
      "include_colab_link": true
    },
    "kernelspec": {
      "name": "python3",
      "display_name": "Python 3"
    },
    "accelerator": "GPU"
  },
  "cells": [
    {
      "cell_type": "markdown",
      "metadata": {
        "id": "view-in-github",
        "colab_type": "text"
      },
      "source": [
        "<a href=\"https://colab.research.google.com/github/ahyen/ML-assignment/blob/master/Assingment09.ipynb\" target=\"_parent\"><img src=\"https://colab.research.google.com/assets/colab-badge.svg\" alt=\"Open In Colab\"/></a>"
      ]
    },
    {
      "cell_type": "code",
      "metadata": {
        "id": "Mq0kyL3av1SS",
        "colab_type": "code",
        "outputId": "ad369bed-b3b3-46df-ff04-88a35cadbfe2",
        "colab": {
          "base_uri": "https://localhost:8080/",
          "height": 35
        }
      },
      "source": [
        "cd ../content/drive/My Drive/Colab Notebooks/ML"
      ],
      "execution_count": 1,
      "outputs": [
        {
          "output_type": "stream",
          "text": [
            "/content/drive/My Drive/Colab Notebooks/ML\n"
          ],
          "name": "stdout"
        }
      ]
    },
    {
      "cell_type": "code",
      "metadata": {
        "id": "tzR1L8K4vDOf",
        "colab_type": "code",
        "colab": {}
      },
      "source": [
        "import matplotlib.pyplot as plt\n",
        "import numpy as np\n",
        "\n",
        "file_data   = \"mnist.csv\"\n",
        "handle_file = open(file_data, \"r\")\n",
        "data        = handle_file.readlines()\n",
        "handle_file.close()\n",
        "\n",
        "size_row    = 28    # height of the image\n",
        "size_col    = 28    # width of the image\n",
        "\n",
        "num_image   = len(data)\n",
        "count       = 0     # count for the number of images\n",
        "\n",
        "#\n",
        "# normalize the values of the input data to be [0, 1]\n",
        "#\n",
        "def normalize(data):\n",
        "    data_normalized = (data - min(data)) / (max(data) - min(data))\n",
        "    return(data_normalized)\n",
        "\n",
        "#\n",
        "# example of distance function between two vectors x and y\n",
        "#\n",
        "def distance(x, y):\n",
        "    d = (x - y) ** 2\n",
        "    s = np.sum(d)\n",
        "    # r = np.sqrt(s)\n",
        "    return(s)\n",
        "\n",
        "#\n",
        "# make a matrix each column of which represents an images in a vector form\n",
        "#\n",
        "list_image  = np.empty((size_row * size_col, num_image), dtype=float)\n",
        "list_label  = np.empty(num_image, dtype=int)\n",
        "\n",
        "for line in data:\n",
        "\n",
        "    line_data   = line.split(',')\n",
        "    label       = line_data[0]\n",
        "    im_vector   = np.asfarray(line_data[1:])\n",
        "    im_vector   = normalize(im_vector)\n",
        "\n",
        "    list_label[count]       = label\n",
        "    list_image[:, count]    = im_vector\n",
        "\n",
        "    count += 1"
      ],
      "execution_count": 0,
      "outputs": []
    },
    {
      "cell_type": "code",
      "metadata": {
        "id": "sLzMEzS3RQyc",
        "colab_type": "code",
        "colab": {}
      },
      "source": [
        "#split data to train and test\n",
        "x = list_image[:, 0 : 6000]\n",
        "x_test = list_image[:, 6000 :]\n",
        "\n",
        "label = list_label[0 : 6000]\n",
        "label_test = list_label[6000 :]\n",
        "label_one_hot = np.eye(10)[label]\n",
        "label_test_one_hot = np.eye(10)[label_test]"
      ],
      "execution_count": 0,
      "outputs": []
    },
    {
      "cell_type": "code",
      "metadata": {
        "id": "VyjM3zKF6w1j",
        "colab_type": "code",
        "colab": {}
      },
      "source": [
        "#set training parameter\n",
        "np.random.seed(50)\n",
        "u = np.random.randn(196, 784) \n",
        "v = np.random.randn(49, 196)\n",
        "w = np.random.randn(10, 49)\n",
        "bias1 = np.random.randn(1)\n",
        "bias2 = np.random.randn(1)\n",
        "bias3 = np.random.randn(1)"
      ],
      "execution_count": 0,
      "outputs": []
    },
    {
      "cell_type": "code",
      "metadata": {
        "id": "cuCAWGeOD7rp",
        "colab_type": "code",
        "colab": {}
      },
      "source": [
        "learning_rate = 0.01\n",
        "cost_list = []\n",
        "accuracy_list = []\n",
        "\n",
        "test_cost_list = []\n",
        "test_accuracy_list = []\n",
        "\n",
        "for epoch in range(500):\n",
        "  correct = 0\n",
        "  correct_test = 0\n",
        "\n",
        "  for i in range(6000):\n",
        "    x_train = x[:, i]\n",
        "    label = label_one_hot[i]\n",
        "\n",
        "    #first hidden layer\n",
        "    y_ = (np.dot(u, x_train)) + bias1\n",
        "    y = 1/(1+np.exp(-y_))\n",
        "\n",
        "    #second hidden layer\n",
        "    z_ = (np.dot(v, y)) + bias2\n",
        "    z = 1/(1+np.exp(-z_))\n",
        "\n",
        "    #output layer\n",
        "    h_ = (np.dot(w, z)) + bias3\n",
        "    h = 1/(1+np.exp(-h_))\n",
        "\n",
        "    # accuracy\n",
        "    if (h.argmax() == label.argmax()):\n",
        "      correct += 1\n",
        "\n",
        "    #cost\n",
        "    cost =+ np.sum(- label * np.log(h) - (1- label)*np.log(1 - h))\n",
        "    \n",
        "    delta3 = (h - label) * h * (1 - h)\n",
        "    bias3 = bias3 - learning_rate * delta3\n",
        "\n",
        "    delta2 = np.dot(w.T, delta3) * z * (1 - z)\n",
        "    bias2 = bias2 - learning_rate * delta2\n",
        "\n",
        "    delta1 = np.dot(v.T, delta2) * y * (1 - y)\n",
        "    bias1 = bias1 - learning_rate * delta1\n",
        "\n",
        "    #Gradient descent\n",
        "    w = w - learning_rate * np.dot(delta3.reshape(10, 1), z.reshape(1, 49))\n",
        "    v = v - learning_rate * np.dot(delta2.reshape(49, 1), y.reshape(1, 196))\n",
        "    u = u - learning_rate * np.dot(delta1.reshape(196, 1), x_train.reshape(1, 784))\n",
        "\n",
        "  accuracy_list.append(correct/6000)\n",
        "  cost_list.append(cost/6000)\n",
        "\n",
        "  for i in range(4000):\n",
        "    x_test_data = x_test[:, i]\n",
        "    label_test = label_test_one_hot[i]\n",
        "\n",
        "    test_y_ = (np.dot(u, x_test_data)) + bias1\n",
        "    test_y = 1/(1+np.exp(-test_y_))\n",
        "\n",
        "    test_z_ = (np.dot(v, test_y)) + bias2\n",
        "    test_z = 1/(1+np.exp(-test_z_))\n",
        "\n",
        "    test_h_ = (np.dot(w, test_z)) + bias3\n",
        "    test_h = 1/(1+np.exp(-test_h_))\n",
        "\n",
        "    if (test_h.argmax() == label_test.argmax()):\n",
        "      correct_test += 1\n",
        "\n",
        "    test_cost =+ np.sum(- label_test * np.log(test_h) - (1- label_test)*np.log(1 - test_h))\n",
        "  test_accuracy_list.append(correct_test/4000)\n",
        "  test_cost_list.append(test_cost/4000)"
      ],
      "execution_count": 0,
      "outputs": []
    },
    {
      "cell_type": "code",
      "metadata": {
        "id": "4vxTwMo4ZUeF",
        "colab_type": "code",
        "colab": {}
      },
      "source": [
        "#test using final parameter\n",
        "classified_list = []\n",
        "misclassified_list = []\n",
        "predict_list = []\n",
        "for i in range(4000):\n",
        "  x_test_data = x_test[:, i]\n",
        "  label_test = label_test_one_hot[i]\n",
        "\n",
        "  test_y_ = (np.dot(u, x_test_data)) + bias1\n",
        "  test_y = 1/(1 + np.exp(-test_y_))\n",
        "  test_z_ = (np.dot(v, test_y)) + bias2\n",
        "  test_z = 1/(1+np.exp(-test_z_))\n",
        "\n",
        "  test_h_ = (np.dot(w, test_z)) + bias3\n",
        "  test_h = 1/(1+np.exp(-test_h_))\n",
        "\n",
        "  if (test_h.argmax() == label_test.argmax()):\n",
        "    classified_list.append(i)\n",
        "  else:\n",
        "    misclassified_list.append(i)\n",
        "  predict_list.append(test_h.argmax())"
      ],
      "execution_count": 0,
      "outputs": []
    },
    {
      "cell_type": "markdown",
      "metadata": {
        "id": "1lgpiM-Vjufj",
        "colab_type": "text"
      },
      "source": [
        "\n",
        "\n",
        "---\n",
        "\n",
        "# **Result**"
      ]
    },
    {
      "cell_type": "markdown",
      "metadata": {
        "id": "Tj4v61VcjyeD",
        "colab_type": "text"
      },
      "source": [
        "### **1. Plot the loss curve**"
      ]
    },
    {
      "cell_type": "code",
      "metadata": {
        "id": "epCZNr5EkeB9",
        "colab_type": "code",
        "colab": {
          "base_uri": "https://localhost:8080/",
          "height": 281
        },
        "outputId": "15914a67-0ba8-43e9-80a3-2ea331ce0fd6"
      },
      "source": [
        "plt.plot(range(0, 500), cost_list, 'b', label = 'training loss')\n",
        "plt.plot(range(0, 500), test_cost_list, 'r', label = 'testing loss')\n",
        "plt.title('loss')\n",
        "plt.show()"
      ],
      "execution_count": 62,
      "outputs": [
        {
          "output_type": "display_data",
          "data": {
            "image/png": "[encoded data removed]",
            "text/plain": [
              "<Figure size 432x288 with 1 Axes>"
            ]
          },
          "metadata": {
            "tags": [],
            "needs_background": "light"
          }
        }
      ]
    },
    {
      "cell_type": "markdown",
      "metadata": {
        "id": "nGre9CXNjy7p",
        "colab_type": "text"
      },
      "source": [
        "### **2. Plot the accuracy curve**"
      ]
    },
    {
      "cell_type": "code",
      "metadata": {
        "id": "dHZ6LcWeki6K",
        "colab_type": "code",
        "colab": {
          "base_uri": "https://localhost:8080/",
          "height": 281
        },
        "outputId": "fa7a0bc3-1594-4ebd-9736-4fcfa1df428b"
      },
      "source": [
        "plt.plot(range(0, 500), accuracy_list, 'b', label = 'training accuracy')\n",
        "plt.plot(range(0, 500), test_accuracy_list, 'r', label = 'testing accuracy')\n",
        "plt.title('accuracy')\n",
        "plt.show()"
      ],
      "execution_count": 63,
      "outputs": [
        {
          "output_type": "display_data",
          "data": {
            "image/png": "[encoded data removed]",
            "text/plain": [
              "<Figure size 432x288 with 1 Axes>"
            ]
          },
          "metadata": {
            "tags": [],
            "needs_background": "light"
          }
        }
      ]
    },
    {
      "cell_type": "markdown",
      "metadata": {
        "id": "wAcQ1yK3jzZb",
        "colab_type": "text"
      },
      "source": [
        "### **3. Plot the accuracy value**"
      ]
    },
    {
      "cell_type": "code",
      "metadata": {
        "id": "FnNoN0TtkjTZ",
        "colab_type": "code",
        "colab": {
          "base_uri": "https://localhost:8080/",
          "height": 52
        },
        "outputId": "9c1986ca-5c38-44d9-b987-aad390c8c740"
      },
      "source": [
        "print(\"final training accuracy : \", accuracy_list[-1] * 100, \"%\")\n",
        "print(\"final testing accuracy : \", test_accuracy_list[-1] * 100, \"%\")"
      ],
      "execution_count": 90,
      "outputs": [
        {
          "output_type": "stream",
          "text": [
            "final training accuracy :  98.31666666666666 %\n",
            "final testing accuracy :  88.75 %\n"
          ],
          "name": "stdout"
        }
      ]
    },
    {
      "cell_type": "markdown",
      "metadata": {
        "id": "rnIR-ZZBjz9p",
        "colab_type": "text"
      },
      "source": [
        "### **4. Plot the classification**"
      ]
    },
    {
      "cell_type": "markdown",
      "metadata": {
        "id": "xMooBDHL3O_4",
        "colab_type": "text"
      },
      "source": [
        "**correctly classified testing images**"
      ]
    },
    {
      "cell_type": "code",
      "metadata": {
        "id": "1vHRsxY-ZPsC",
        "colab_type": "code",
        "colab": {
          "base_uri": "https://localhost:8080/",
          "height": 227
        },
        "outputId": "4507f547-7da8-4d72-8eba-243e3476f9d5"
      },
      "source": [
        "for i in range(10):\n",
        "    index = classified_list[i]\n",
        "    plt.subplot(2, 5, i+1)\n",
        "    plt.title(predict_list[index])\n",
        "    plt.imshow(x_test[:, index].reshape((size_row, size_col)), cmap='Greys', interpolation='None')\n",
        "\n",
        "    frame   = plt.gca()\n",
        "    frame.axes.get_xaxis().set_visible(False)\n",
        "    frame.axes.get_yaxis().set_visible(False)\n",
        "\n",
        "plt.show()\n"
      ],
      "execution_count": 87,
      "outputs": [
        {
          "output_type": "display_data",
          "data": {
            "image/png": "[encoded data removed]",
            "text/plain": [
              "<Figure size 432x288 with 10 Axes>"
            ]
          },
          "metadata": {
            "tags": [],
            "needs_background": "light"
          }
        }
      ]
    },
    {
      "cell_type": "markdown",
      "metadata": {
        "id": "EDlmC_ZM3V-f",
        "colab_type": "text"
      },
      "source": [
        "**misclassified testing images**"
      ]
    },
    {
      "cell_type": "code",
      "metadata": {
        "id": "ON62ikCozlLR",
        "colab_type": "code",
        "colab": {
          "base_uri": "https://localhost:8080/",
          "height": 227
        },
        "outputId": "eb3762a9-a55c-4b31-e07c-d7a913745889"
      },
      "source": [
        "for i in range(10):\n",
        "    index = misclassified_list[i]\n",
        "    plt.subplot(2, 5, i+1)\n",
        "    plt.title(predict_list[index])\n",
        "    plt.imshow(x_test[:, index].reshape((size_row, size_col)), cmap='Greys', interpolation='None')\n",
        "\n",
        "    frame   = plt.gca()\n",
        "    frame.axes.get_xaxis().set_visible(False)\n",
        "    frame.axes.get_yaxis().set_visible(False)\n",
        "\n",
        "plt.show()"
      ],
      "execution_count": 89,
      "outputs": [
        {
          "output_type": "display_data",
          "data": {
            "image/png": "[encoded data removed]",
            "text/plain": [
              "<Figure size 432x288 with 10 Axes>"
            ]
          },
          "metadata": {
            "tags": [],
            "needs_background": "light"
          }
        }
      ]
    }
  ]
}
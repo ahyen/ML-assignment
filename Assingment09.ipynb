{
  "nbformat": 4,
  "nbformat_minor": 0,
  "metadata": {
    "colab": {
      "name": "Assingment09.ipynb",
      "provenance": [],
      "mount_file_id": "1FCoWD38YDVFI1YPMmWwSaMCjrztjRl4E",
      "authorship_tag": "ABX9TyPQT5qb3O7/Bg6C95spCfnh",
      "include_colab_link": true
    },
    "kernelspec": {
      "name": "python3",
      "display_name": "Python 3"
    },
    "accelerator": "GPU"
  },
  "cells": [
    {
      "cell_type": "markdown",
      "metadata": {
        "id": "view-in-github",
        "colab_type": "text"
      },
      "source": [
        "<a href=\"https://colab.research.google.com/github/ahyen/ML-assignment/blob/master/Assingment09.ipynb\" target=\"_parent\"><img src=\"https://colab.research.google.com/assets/colab-badge.svg\" alt=\"Open In Colab\"/></a>"
      ]
    },
    {
      "cell_type": "code",
      "metadata": {
        "id": "Mq0kyL3av1SS",
        "colab_type": "code",
        "outputId": "ad369bed-b3b3-46df-ff04-88a35cadbfe2",
        "colab": {
          "base_uri": "https://localhost:8080/",
          "height": 35
        }
      },
      "source": [
        "cd ../content/drive/My Drive/Colab Notebooks/ML"
      ],
      "execution_count": 1,
      "outputs": [
        {
          "output_type": "stream",
          "text": [
            "/content/drive/My Drive/Colab Notebooks/ML\n"
          ],
          "name": "stdout"
        }
      ]
    },
    {
      "cell_type": "code",
      "metadata": {
        "id": "tzR1L8K4vDOf",
        "colab_type": "code",
        "outputId": "1d077a85-cf73-48e3-b6b9-f0530dbf1c5b",
        "colab": {
          "base_uri": "https://localhost:8080/",
          "height": 52
        }
      },
      "source": [
        "import matplotlib.pyplot as plt\n",
        "import numpy as np\n",
        "\n",
        "file_data   = \"mnist.csv\"\n",
        "handle_file = open(file_data, \"r\")\n",
        "data        = handle_file.readlines()\n",
        "handle_file.close()\n",
        "\n",
        "size_row    = 28    # height of the image\n",
        "size_col    = 28    # width of the image\n",
        "\n",
        "num_image   = len(data)\n",
        "count       = 0     # count for the number of images\n",
        "\n",
        "#\n",
        "# normalize the values of the input data to be [0, 1]\n",
        "#\n",
        "def normalize(data):\n",
        "\n",
        "    data_normalized = (data - min(data)) / (max(data) - min(data))\n",
        "\n",
        "    return(data_normalized)\n",
        "\n",
        "#\n",
        "# example of distance function between two vectors x and y\n",
        "#\n",
        "def distance(x, y):\n",
        "\n",
        "    d = (x - y) ** 2\n",
        "    s = np.sum(d)\n",
        "    # r = np.sqrt(s)\n",
        "\n",
        "    return(s)\n",
        "\n",
        "#\n",
        "# make a matrix each column of which represents an images in a vector form\n",
        "#\n",
        "list_image  = np.empty((size_row * size_col, num_image), dtype=float)\n",
        "list_label  = np.empty(num_image, dtype=int)\n",
        "\n",
        "for line in data:\n",
        "\n",
        "    line_data   = line.split(',')\n",
        "    label       = line_data[0]\n",
        "    im_vector   = np.asfarray(line_data[1:])\n",
        "    im_vector   = normalize(im_vector)\n",
        "\n",
        "    list_label[count]       = label\n",
        "    list_image[:, count]    = im_vector\n",
        "\n",
        "    count += 1\n",
        "\n",
        "label_one_hot_encoding = np.eye(10)[list_label]\n",
        "print(label_one_hot_encoding.shape)\n",
        "print(list_label[0], label_one_hot_encoding[0])\n",
        "# bias = np.ones((1, 10000))\n",
        "# x = np.concatenate((bias, list_image), axis=0)  #add bias to data\n"
      ],
      "execution_count": 56,
      "outputs": [
        {
          "output_type": "stream",
          "text": [
            "(10000, 10)\n",
            "7 [0. 0. 0. 0. 0. 0. 0. 1. 0. 0.]\n"
          ],
          "name": "stdout"
        }
      ]
    },
    {
      "cell_type": "code",
      "metadata": {
        "id": "sLzMEzS3RQyc",
        "colab_type": "code",
        "outputId": "464f9c87-5a30-4f46-d4d2-6a75479474a9",
        "colab": {
          "base_uri": "https://localhost:8080/",
          "height": 52
        }
      },
      "source": [
        "x = list_image[:, 0 : 6000]\n",
        "print(x.shape)\n",
        "x_test = list_image[:, 6000 :]\n",
        "\n",
        "label = list_label[0 : 6000]\n",
        "label_test = list_label[6000 :]\n",
        "label_one_hot = np.eye(10)[label]\n",
        "label_test_one_hot = np.eye(10)[label_test]\n",
        "print(label_one_hot[0].argmax())"
      ],
      "execution_count": 57,
      "outputs": [
        {
          "output_type": "stream",
          "text": [
            "(784, 6000)\n",
            "7\n"
          ],
          "name": "stdout"
        }
      ]
    },
    {
      "cell_type": "code",
      "metadata": {
        "id": "VyjM3zKF6w1j",
        "colab_type": "code",
        "colab": {}
      },
      "source": [
        "np.random.seed(50)\n",
        "u = np.random.randn(196, 784)  #assign random values from the normal distribution\n",
        "v = np.random.randn(49, 196)\n",
        "w = np.random.randn(10, 49)\n",
        "bias1 = np.random.randn(1)\n",
        "bias2 = np.random.randn(1)\n",
        "bias3 = np.random.randn(1)"
      ],
      "execution_count": 0,
      "outputs": []
    },
    {
      "cell_type": "code",
      "metadata": {
        "id": "cuCAWGeOD7rp",
        "colab_type": "code",
        "colab": {}
      },
      "source": [
        "learning_rate = 0.01\n",
        "cost_list = []\n",
        "accuracy_list = []\n",
        "\n",
        "test_cost_list = []\n",
        "test_accuracy_list = []\n",
        "\n",
        "for epoch in range(500):\n",
        "  correct = 0\n",
        "  correct_test = 0\n",
        "\n",
        "  for i in range(6000):\n",
        "    x_train = x[:, i]\n",
        "    label = label_one_hot[i]\n",
        "\n",
        "    y_ = (np.dot(u, x_train)) + bias1\n",
        "    y = 1/(1+np.exp(-y_))\n",
        "\n",
        "    z_ = (np.dot(v, y)) + bias2\n",
        "    z = 1/(1+np.exp(-z_))\n",
        "\n",
        "    h_ = (np.dot(w, z)) + bias3\n",
        "    h = 1/(1+np.exp(-h_))\n",
        "\n",
        "    if (h.argmax() == label.argmax()):\n",
        "      correct += 1\n",
        "\n",
        "    cost =+ np.sum(- label * np.log(h) - (1- label)*np.log(1 - h))\n",
        "    \n",
        "    delta3 = (h - label) * h * (1 - h)\n",
        "    bias3 = bias3 - learning_rate * delta3\n",
        "\n",
        "    delta2 = np.dot(w.T, delta3) * z * (1 - z)\n",
        "    bias2 = bias2 - learning_rate * delta2\n",
        "\n",
        "    delta1 = np.dot(v.T, delta2) * y * (1 - y)\n",
        "    bias1 = bias1 - learning_rate * delta1\n",
        "\n",
        "    #Gradient descent\n",
        "    w = w - learning_rate * np.dot(delta3.reshape(10, 1), z.reshape(1, 49))\n",
        "    v = v - learning_rate * np.dot(delta2.reshape(49, 1), y.reshape(1, 196))\n",
        "    u = u - learning_rate * np.dot(delta1.reshape(196, 1), x_train.reshape(1, 784))\n",
        "\n",
        "  accuracy_list.append(correct/6000)\n",
        "  cost_list.append(cost/6000)\n",
        "\n",
        "  for i in range(4000):\n",
        "    x_test_data = x_test[:, i]\n",
        "    label_test = label_test_one_hot[i]\n",
        "\n",
        "    test_y_ = (np.dot(u, x_test_data)) + bias1\n",
        "    test_y = 1/(1+np.exp(-test_y_))\n",
        "\n",
        "    test_z_ = (np.dot(v, test_y)) + bias2\n",
        "    test_z = 1/(1+np.exp(-test_z_))\n",
        "\n",
        "    test_h_ = (np.dot(w, test_z)) + bias3\n",
        "    test_h = 1/(1+np.exp(-test_h_))\n",
        "\n",
        "    if (test_h.argmax() == label_test.argmax()):\n",
        "      correct_test += 1\n",
        "\n",
        "    test_cost =+ np.sum(- label_test * np.log(test_h) - (1- label_test)*np.log(1 - test_h))\n",
        "  test_accuracy_list.append(correct_test/4000)\n",
        "  test_cost_list.append(test_cost/4000)"
      ],
      "execution_count": 0,
      "outputs": []
    },
    {
      "cell_type": "code",
      "metadata": {
        "id": "4vxTwMo4ZUeF",
        "colab_type": "code",
        "colab": {}
      },
      "source": [
        "classified_list = []\n",
        "misclassified_list = []\n",
        "\n",
        "for i in range(4000):\n",
        "  x_test_data = x_test[:, i]\n",
        "  label_test = label_test_one_hot[i]\n",
        "\n",
        "  test_y_ = (np.dot(u, x_test_data)) + bias1\n",
        "  test_y = 1/(1 + np.exp(-test_y_))\n",
        "  test_z_ = (np.dot(v, test_y)) + bias2\n",
        "  test_z = 1/(1+np.exp(-test_z_))\n",
        "\n",
        "  test_h_ = (np.dot(w, test_z)) + bias3\n",
        "  test_h = 1/(1+np.exp(-test_h_))\n",
        "\n",
        "  if (test_h.argmax() == label_test.argmax()):\n",
        "    classified_list.append(i)\n",
        "  else:\n",
        "    misclassified_list.append(i)"
      ],
      "execution_count": 0,
      "outputs": []
    },
    {
      "cell_type": "code",
      "metadata": {
        "id": "zVijwia8fJ56",
        "colab_type": "code",
        "colab": {
          "base_uri": "https://localhost:8080/",
          "height": 35
        },
        "outputId": "037fcaa0-7617-43dd-d9cb-552c51baeb67"
      },
      "source": [
        "print(len(cost_list))"
      ],
      "execution_count": 11,
      "outputs": [
        {
          "output_type": "stream",
          "text": [
            "1000\n"
          ],
          "name": "stdout"
        }
      ]
    },
    {
      "cell_type": "code",
      "metadata": {
        "id": "VroSQseeONCN",
        "colab_type": "code",
        "colab": {
          "base_uri": "https://localhost:8080/",
          "height": 281
        },
        "outputId": "261cdf2a-5b9e-4f19-fbcf-37d75f98f6fc"
      },
      "source": [
        "\n",
        "plt.plot(range(0, 10), cost_list, 'b', label = 'training loss')\n",
        "plt.plot(range(0, 10), test_cost_list, 'r', label = 'testing loss')\n",
        "plt.title('loss')\n",
        "plt.show()\n"
      ],
      "execution_count": 54,
      "outputs": [
        {
          "output_type": "display_data",
          "data": {
            "image/png": "[encoded data removed]",
            "text/plain": [
              "<Figure size 432x288 with 1 Axes>"
            ]
          },
          "metadata": {
            "tags": [],
            "needs_background": "light"
          }
        }
      ]
    },
    {
      "cell_type": "code",
      "metadata": {
        "id": "4MNgEQaJhRn1",
        "colab_type": "code",
        "colab": {}
      },
      "source": [
        ""
      ],
      "execution_count": 0,
      "outputs": []
    },
    {
      "cell_type": "code",
      "metadata": {
        "id": "fuP1SSXOhRhy",
        "colab_type": "code",
        "colab": {}
      },
      "source": [
        ""
      ],
      "execution_count": 0,
      "outputs": []
    },
    {
      "cell_type": "code",
      "metadata": {
        "id": "TIxdYI5S5fKj",
        "colab_type": "code",
        "colab": {
          "base_uri": "https://localhost:8080/",
          "height": 281
        },
        "outputId": "8d19fe5f-cce0-4762-f109-53bcaff9180a"
      },
      "source": [
        "plt.plot(range(0, 10), accuracy_list, 'b', label = 'training accuracy')\n",
        "plt.plot(range(0, 10), test_accuracy_list, 'r', label = 'testing accuracy')\n",
        "plt.title('accuracy')\n",
        "plt.show()"
      ],
      "execution_count": 55,
      "outputs": [
        {
          "output_type": "display_data",
          "data": {
            "image/png": "[encoded data removed]",
            "text/plain": [
              "<Figure size 432x288 with 1 Axes>"
            ]
          },
          "metadata": {
            "tags": [],
            "needs_background": "light"
          }
        }
      ]
    },
    {
      "cell_type": "code",
      "metadata": {
        "id": "36-cNq6iYx9x",
        "colab_type": "code",
        "colab": {}
      },
      "source": [
        "print(\"final training accuracy : \", accuracy_list[-1])\n",
        "print(\"final testing accuracy : \", test_accuracy_list[-1])"
      ],
      "execution_count": 0,
      "outputs": []
    },
    {
      "cell_type": "code",
      "metadata": {
        "id": "1vHRsxY-ZPsC",
        "colab_type": "code",
        "colab": {}
      },
      "source": [
        ""
      ],
      "execution_count": 0,
      "outputs": []
    }
  ]
}
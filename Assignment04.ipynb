{
  "nbformat": 4,
  "nbformat_minor": 0,
  "metadata": {
    "colab": {
      "name": "Assignment04.ipynb",
      "provenance": [],
      "mount_file_id": "1yYgDl63_4psUc1gDw2_I7V8hYQNveZpX",
      "authorship_tag": "ABX9TyP+uwGwszysZwOfRtT/5KXP",
      "include_colab_link": true
    },
    "kernelspec": {
      "name": "python3",
      "display_name": "Python 3"
    }
  },
  "cells": [
    {
      "cell_type": "markdown",
      "metadata": {
        "id": "view-in-github",
        "colab_type": "text"
      },
      "source": [
        "<a href=\"https://colab.research.google.com/github/ahyen/ML-assignment/blob/master/Assignment04.ipynb\" target=\"_parent\"><img src=\"https://colab.research.google.com/assets/colab-badge.svg\" alt=\"Open In Colab\"/></a>"
      ]
    },
    {
      "cell_type": "code",
      "metadata": {
        "id": "OXzWi7inj2UU",
        "colab_type": "code",
        "outputId": "a567a70c-17f3-490c-c858-3859e5d31715",
        "colab": {
          "base_uri": "https://localhost:8080/",
          "height": 35
        }
      },
      "source": [
        "cd ../content/drive/My Drive/Colab Notebooks/ML"
      ],
      "execution_count": 1,
      "outputs": [
        {
          "output_type": "stream",
          "text": [
            "/content/drive/My Drive/Colab Notebooks/ML\n"
          ],
          "name": "stdout"
        }
      ]
    },
    {
      "cell_type": "markdown",
      "metadata": {
        "id": "JSTe1hjakvFA",
        "colab_type": "text"
      },
      "source": [
        "# **1. Plot the estimated parameters using training dataset**"
      ]
    },
    {
      "cell_type": "code",
      "metadata": {
        "id": "GIm1FLa2lFsg",
        "colab_type": "code",
        "colab": {}
      },
      "source": [
        "import csv\n",
        "import numpy as np\n",
        "import matplotlib.pyplot as plt\n",
        "\n",
        "#make list for save train data\n",
        "x_train = []\n",
        "y_train = []\n",
        "z_train = []\n",
        "h_train = []\n",
        "\n",
        "#load train data\n",
        "with open('data_train.csv', newline='') as myfile:\n",
        "    reader  = csv.reader(myfile, delimiter=',')\n",
        "    \n",
        "    ct = 1 \n",
        "    for i in reader:\n",
        "        x_train.append(i[0])\n",
        "        y_train.append(i[1])\n",
        "        z_train.append(i[2])\n",
        "        h_train.append(i[3])\n",
        "        ct += 1\n",
        "\n",
        "#make list for save test data\n",
        "x_test = []\n",
        "y_test = []\n",
        "z_test = []\n",
        "h_test = []\n",
        "\n",
        "#load test data\n",
        "with open('data_test.csv', newline='') as myfile:\n",
        "    reader  = csv.reader(myfile, delimiter=',')\n",
        "    ct = 1 \n",
        "    for i in reader:\n",
        "        x_test.append(i[0])\n",
        "        y_test.append(i[1])\n",
        "        z_test.append(i[2])\n",
        "        h_test.append(i[3])\n",
        "        ct += 1\n",
        "\n",
        "#convert string to float\n",
        "x_train = list(map(float, x_train))\n",
        "y_train = list(map(float, y_train))\n",
        "z_train = list(map(float, z_train))\n",
        "h_train = list(map(float, h_train))\n",
        "x_test = list(map(float, x_test))\n",
        "y_test = list(map(float, y_test))\n",
        "z_test = list(map(float, z_test))\n",
        "h_test = list(map(float, h_test))"
      ],
      "execution_count": 0,
      "outputs": []
    },
    {
      "cell_type": "code",
      "metadata": {
        "id": "HZUszuPicrgx",
        "colab_type": "code",
        "colab": {
          "base_uri": "https://localhost:8080/",
          "height": 35
        },
        "outputId": "e370d518-9c81-4951-de71-e4ecdfdf45a0"
      },
      "source": [
        "#set theta0, theta1, theta2, theta3\n",
        "np.random.seed(100)\n",
        "theta0 = np.random.randn(1)\n",
        "theta1 = np.random.randn(1)\n",
        "theta2 = np.random.randn(1)\n",
        "theta3 = np.random.randn(1)\n",
        "\n",
        "#make list for save cost, theta0, theta1, theta2 and theta3\n",
        "train_cost = []\n",
        "theta0_list = []\n",
        "theta1_list = []\n",
        "theta2_list = []\n",
        "theta3_list = []\n",
        "\n",
        "#make list for save test data's cost\n",
        "test_cost = []\n",
        "\n",
        "#set learning rate and iteration\n",
        "alpha = 0.00002\n",
        "iteration = 20000\n",
        "\n",
        "for i in range(iteration):\n",
        "\n",
        "  hypothesis = theta0 + theta1 * x_train  + theta2 * y_train + theta3 * z_train\n",
        "  error = hypothesis - h_train\n",
        "\n",
        "  #set hypothesis and error about test data\n",
        "  hypothesis_test = theta0 + theta1 * x_test  + theta2 * y_test + theta3 * z_test\n",
        "  error_test = hypothesis_test - h_test\n",
        "\n",
        "  #objective function\n",
        "  cost = (error ** 2).mean()\n",
        "  train_cost.append(cost)\n",
        "\n",
        "  #objective function for test data\n",
        "  cost_test = (error_test ** 2).mean()\n",
        "  test_cost.append(cost_test)\n",
        "\n",
        "  #gradient descent\n",
        "  theta0_grad = error.mean()\n",
        "  theta1_grad = (error * x_train).mean()\n",
        "  theta2_grad = (error * y_train).mean()\n",
        "  theta3_grad = (error * z_train).mean()\n",
        "\n",
        "  theta0 = theta0 - alpha * (theta0_grad)\n",
        "  theta1 = theta1 - alpha * (theta1_grad)\n",
        "  theta2 = theta2 - alpha * (theta2_grad)\n",
        "  theta3 = theta3 - alpha * (theta3_grad)\n",
        "  \n",
        "  theta0_list.append(theta0)\n",
        "  theta1_list.append(theta1)\n",
        "  theta2_list.append(theta2)\n",
        "  theta3_list.append(theta3)\n",
        "\n",
        "#final theta0, theta1, theta2 and theta3\n",
        "print(theta0, theta1, theta2, theta3)"
      ],
      "execution_count": 38,
      "outputs": [
        {
          "output_type": "stream",
          "text": [
            "[-1.70352931] [0.79024711] [-1.79072303] [4.00949961]\n"
          ],
          "name": "stdout"
        }
      ]
    },
    {
      "cell_type": "code",
      "metadata": {
        "id": "sGqM3Dece1h9",
        "colab_type": "code",
        "colab": {
          "base_uri": "https://localhost:8080/",
          "height": 265
        },
        "outputId": "c3d0b429-6a00-4ba9-8536-9c12acc63199"
      },
      "source": [
        "#plotting theta0, theta1, theta2 and theta3\n",
        "plt.plot(range(0, iteration), theta0_list, 'black')\n",
        "plt.plot(range(0, iteration), theta1_list,'red')\n",
        "plt.plot(range(0, iteration), theta2_list,'green')\n",
        "plt.plot(range(0, iteration), theta3_list,'blue')\n",
        "plt.show()"
      ],
      "execution_count": 32,
      "outputs": [
        {
          "output_type": "display_data",
          "data": {
            "image/png": "[encoded data removed]",
            "text/plain": [
              "<Figure size 432x288 with 1 Axes>"
            ]
          },
          "metadata": {
            "tags": [],
            "needs_background": "light"
          }
        }
      ]
    },
    {
      "cell_type": "markdown",
      "metadata": {
        "id": "fxXepXIZha53",
        "colab_type": "text"
      },
      "source": [
        "# **2. Plot the training error using the training dataset**"
      ]
    },
    {
      "cell_type": "code",
      "metadata": {
        "id": "NberDlBUhhuj",
        "colab_type": "code",
        "colab": {
          "base_uri": "https://localhost:8080/",
          "height": 281
        },
        "outputId": "a5604fc0-3e8d-402f-a22f-82012c4471fc"
      },
      "source": [
        "#plot the value of the objective function at every optimization step\n",
        "plt.plot(range(0, iteration), train_cost, 'blue')\n",
        "plt.title('training error')\n",
        "plt.show()"
      ],
      "execution_count": 39,
      "outputs": [
        {
          "output_type": "display_data",
          "data": {
            "image/png": "[encoded data removed]",
            "text/plain": [
              "<Figure size 432x288 with 1 Axes>"
            ]
          },
          "metadata": {
            "tags": [],
            "needs_background": "light"
          }
        }
      ]
    },
    {
      "cell_type": "markdown",
      "metadata": {
        "id": "7PyLJAjch1am",
        "colab_type": "text"
      },
      "source": [
        "# **3. Plot the testing error using the testing dataset at every iteration of gradient descent until convergence**"
      ]
    },
    {
      "cell_type": "code",
      "metadata": {
        "id": "NZ8-Oi4ljOAL",
        "colab_type": "code",
        "colab": {
          "base_uri": "https://localhost:8080/",
          "height": 281
        },
        "outputId": "fd3711df-17c7-4708-92cb-466af1c28c64"
      },
      "source": [
        "plt.plot(range(0, iteration), test_cost, 'red')\n",
        "plt.title('testing error')\n",
        "plt.show()"
      ],
      "execution_count": 40,
      "outputs": [
        {
          "output_type": "display_data",
          "data": {
            "image/png": "[encoded data removed]",
            "text/plain": [
              "<Figure size 432x288 with 1 Axes>"
            ]
          },
          "metadata": {
            "tags": [],
            "needs_background": "light"
          }
        }
      ]
    }
  ]
}
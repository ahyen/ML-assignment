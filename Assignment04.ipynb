{
  "nbformat": 4,
  "nbformat_minor": 0,
  "metadata": {
    "colab": {
      "name": "Assignment04.ipynb",
      "provenance": [],
      "mount_file_id": "1yYgDl63_4psUc1gDw2_I7V8hYQNveZpX",
      "authorship_tag": "ABX9TyOwObmPLjx30MUOL67p4aY9",
      "include_colab_link": true
    },
    "kernelspec": {
      "name": "python3",
      "display_name": "Python 3"
    }
  },
  "cells": [
    {
      "cell_type": "markdown",
      "metadata": {
        "id": "view-in-github",
        "colab_type": "text"
      },
      "source": [
        "<a href=\"https://colab.research.google.com/github/ahyen/ML-assignment/blob/master/Assignment04.ipynb\" target=\"_parent\"><img src=\"https://colab.research.google.com/assets/colab-badge.svg\" alt=\"Open In Colab\"/></a>"
      ]
    },
    {
      "cell_type": "code",
      "metadata": {
        "id": "OXzWi7inj2UU",
        "colab_type": "code",
        "outputId": "a567a70c-17f3-490c-c858-3859e5d31715",
        "colab": {
          "base_uri": "https://localhost:8080/",
          "height": 35
        }
      },
      "source": [
        "cd ../content/drive/My Drive/Colab Notebooks/ML"
      ],
      "execution_count": 1,
      "outputs": [
        {
          "output_type": "stream",
          "text": [
            "/content/drive/My Drive/Colab Notebooks/ML\n"
          ],
          "name": "stdout"
        }
      ]
    },
    {
      "cell_type": "markdown",
      "metadata": {
        "id": "JSTe1hjakvFA",
        "colab_type": "text"
      },
      "source": [
        "# **1. Plot the estimated parameters using training dataset**"
      ]
    },
    {
      "cell_type": "code",
      "metadata": {
        "id": "GIm1FLa2lFsg",
        "colab_type": "code",
        "colab": {}
      },
      "source": [
        "import csv\n",
        "import numpy as np\n",
        "import matplotlib.pyplot as plt\n",
        "\n",
        "#make list for save train data\n",
        "x_train = []\n",
        "y_train = []\n",
        "z_train = []\n",
        "h_train = []\n",
        "\n",
        "#load train data\n",
        "with open('data_train.csv', newline='') as myfile:\n",
        "    reader  = csv.reader(myfile, delimiter=',')\n",
        "    \n",
        "    ct = 1 \n",
        "    for i in reader:\n",
        "        x_train.append(i[0])\n",
        "        y_train.append(i[1])\n",
        "        z_train.append(i[2])\n",
        "        h_train.append(i[3])\n",
        "        ct += 1\n",
        "\n",
        "#make list for save test data\n",
        "x_test = []\n",
        "y_test = []\n",
        "z_test = []\n",
        "h_test = []\n",
        "\n",
        "#load test data\n",
        "with open('data_test.csv', newline='') as myfile:\n",
        "    reader  = csv.reader(myfile, delimiter=',')\n",
        "    ct = 1 \n",
        "    for i in reader:\n",
        "        x_test.append(i[0])\n",
        "        y_test.append(i[1])\n",
        "        z_test.append(i[2])\n",
        "        h_test.append(i[3])\n",
        "        ct += 1\n",
        "\n",
        "#convert string to float\n",
        "x_train = list(map(float, x_train))\n",
        "y_train = list(map(float, y_train))\n",
        "z_train = list(map(float, z_train))\n",
        "h_train = list(map(float, h_train))\n",
        "x_test = list(map(float, x_test))\n",
        "y_test = list(map(float, y_test))\n",
        "z_test = list(map(float, z_test))\n",
        "h_test = list(map(float, h_test))"
      ],
      "execution_count": 0,
      "outputs": []
    }
  ]
}
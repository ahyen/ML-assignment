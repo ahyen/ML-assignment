{
  "nbformat": 4,
  "nbformat_minor": 0,
  "metadata": {
    "colab": {
      "name": "Assginment06.ipynb",
      "provenance": [],
      "mount_file_id": "1hV9jd1ly8aM9Soogj3EcIGXxiOr0w_R7",
      "authorship_tag": "ABX9TyP10HmVDaQl1S0N29elYnNc",
      "include_colab_link": true
    },
    "kernelspec": {
      "name": "python3",
      "display_name": "Python 3"
    }
  },
  "cells": [
    {
      "cell_type": "markdown",
      "metadata": {
        "id": "view-in-github",
        "colab_type": "text"
      },
      "source": [
        "<a href=\"https://colab.research.google.com/github/ahyen/ML-assignment/blob/master/Assginment06.ipynb\" target=\"_parent\"><img src=\"https://colab.research.google.com/assets/colab-badge.svg\" alt=\"Open In Colab\"/></a>"
      ]
    },
    {
      "cell_type": "code",
      "metadata": {
        "id": "AR4gfjJt8HMG",
        "colab_type": "code",
        "colab": {
          "base_uri": "https://localhost:8080/",
          "height": 35
        },
        "outputId": "b53a1553-0fea-4c6a-ee3b-9d31aecee35a"
      },
      "source": [
        "cd ../content/drive/My Drive/Colab Notebooks/ML"
      ],
      "execution_count": 2,
      "outputs": [
        {
          "output_type": "stream",
          "text": [
            "/content/drive/My Drive/Colab Notebooks/ML\n"
          ],
          "name": "stdout"
        }
      ]
    },
    {
      "cell_type": "code",
      "metadata": {
        "id": "x3kEea6ACg1Q",
        "colab_type": "code",
        "colab": {}
      },
      "source": [
        "import numpy as np\n",
        "import matplotlib.pyplot as plt\n",
        "\n",
        "data    = np.genfromtxt(\"data-nonlinear.txt\", delimiter=',')\n",
        "\n",
        "x  = data[:, 0]\n",
        "y  = data[:, 1]\n",
        "label   = data[:, 2]\n",
        "\n",
        "pointX0 = x[label == 0]\n",
        "pointY0 = y[label == 0]\n",
        "\n",
        "pointX1 = x[label == 1]\n",
        "pointY1 = y[label == 1]"
      ],
      "execution_count": 0,
      "outputs": []
    },
    {
      "cell_type": "code",
      "metadata": {
        "id": "vm6nb4TV41jl",
        "colab_type": "code",
        "colab": {}
      },
      "source": [
        "#define function for estimate training accuracy\n",
        "def accuracy(sigmoid) : \n",
        "  label_z = []\n",
        "  for i in sigmoid:\n",
        "    if i > 0.5:\n",
        "      i = 1\n",
        "    else : i = 0\n",
        "    label_z.append(i)\n",
        "\n",
        "  correct = 0\n",
        "  for i, j in zip(label_z, label):\n",
        "    if i ==j:\n",
        "      correct +=1\n",
        "  return correct/len(label)"
      ],
      "execution_count": 0,
      "outputs": []
    },
    {
      "cell_type": "code",
      "metadata": {
        "id": "oXHLnVC83aDm",
        "colab_type": "code",
        "colab": {
          "base_uri": "https://localhost:8080/",
          "height": 35
        },
        "outputId": "973ccbb8-7371-4373-f638-fbd3c8e9db93"
      },
      "source": [
        "np.random.seed(50)\n",
        "theta0 = np.random.randn(1)\n",
        "theta1 = np.random.randn(1)\n",
        "theta2 = np.random.randn(1)\n",
        "theta3 = np.random.randn(1)\n",
        "theta4 = np.random.randn(1)\n",
        "theta5 = np.random.randn(1)\n",
        "theta6 = np.random.randn(1)\n",
        "theta7 = np.random.randn(1)\n",
        "\n",
        "cost_list = []\n",
        "accuracy_list = []\n",
        "theta0_list = []\n",
        "theta1_list = []\n",
        "theta2_list = []\n",
        "theta3_list = []\n",
        "theta4_list = []\n",
        "theta5_list = []\n",
        "theta6_list = []\n",
        "theta7_list = []\n",
        "\n",
        "alpha = 0.1\n",
        "iteration = 100000\n",
        "\n",
        "\n",
        "for i in range(iteration):\n",
        "\n",
        "  theta0_list.append(theta0)\n",
        "  theta1_list.append(theta1)\n",
        "  theta2_list.append(theta2)\n",
        "  theta3_list.append(theta3)\n",
        "  theta4_list.append(theta4)\n",
        "  theta5_list.append(theta5)\n",
        "  theta6_list.append(theta6)\n",
        "\n",
        "\n",
        "  #hypothesis\n",
        "  z = theta0 + theta1*x +theta2*y + theta3*x*y + theta4*x*x + theta5*y*y + theta6*x*x*y*y\n",
        "  sigmoid_z = 1/(1 + np.exp(-z))\n",
        "  error = sigmoid_z - label\n",
        "  accuracy_list.append(accuracy(sigmoid_z))\n",
        "  #objective function\n",
        "  cost = (-label * np.log(sigmoid_z) - (1 - label) * np.log(1 - sigmoid_z)).mean()\n",
        "  cost_list.append(cost)\n",
        "\n",
        "  #gradient descent\n",
        "  theta0_grad = error.mean()\n",
        "  theta1_grad = (error * x).mean()\n",
        "  theta2_grad = (error * y).mean()\n",
        "  theta3_grad = (error * x * y).mean()\n",
        "  theta4_grad = (error * x * x).mean()\n",
        "  theta5_grad = (error * y * y).mean()\n",
        "  theta6_grad = (error * x * x * y * y).mean()\n",
        "\n",
        "  \n",
        "  theta0 = theta0 - alpha * (theta0_grad)\n",
        "  theta1 = theta1 - alpha * (theta1_grad)\n",
        "  theta2 = theta2 - alpha * (theta2_grad)\n",
        "  theta3 = theta3 - alpha * (theta3_grad)\n",
        "  theta4 = theta4 - alpha * (theta4_grad)\n",
        "  theta5 = theta5 - alpha * (theta5_grad)\n",
        "  theta6 = theta6 - alpha * (theta6_grad)\n",
        "\n",
        "print(theta0, theta1, theta2, theta3, theta4, theta5, theta6)"
      ],
      "execution_count": 144,
      "outputs": [
        {
          "output_type": "stream",
          "text": [
            "[5.18722329] [3.25107332] [4.15928044] [-7.45201235] [-12.17361494] [-11.92964906] [1.15552436]\n"
          ],
          "name": "stdout"
        }
      ]
    },
    {
      "cell_type": "markdown",
      "metadata": {
        "id": "SxfXN-EiAlF7",
        "colab_type": "text"
      },
      "source": [
        "\n",
        "\n",
        "---\n",
        "\n",
        "# **Result**"
      ]
    },
    {
      "cell_type": "markdown",
      "metadata": {
        "id": "04o5aBsfAp-I",
        "colab_type": "text"
      },
      "source": [
        "## 1. Plot the training data"
      ]
    },
    {
      "cell_type": "code",
      "metadata": {
        "id": "aUm4Z8GIBeXr",
        "colab_type": "code",
        "colab": {
          "base_uri": "https://localhost:8080/",
          "height": 297
        },
        "outputId": "9d6f64b9-10bc-46cd-ffaa-bafa96be0a01"
      },
      "source": [
        "plt.figure()\n",
        "plt.scatter(pointX0, pointY0, c='b')\n",
        "plt.scatter(pointX1, pointY1, c='r')\n",
        "plt.tight_layout()\n",
        "plt.gca().set_aspect('equal', adjustable='box')\n",
        "plt.show()"
      ],
      "execution_count": 169,
      "outputs": [
        {
          "output_type": "display_data",
          "data": {
            "image/png": "[encoded data removed]",
            "text/plain": [
              "<Figure size 432x288 with 1 Axes>"
            ]
          },
          "metadata": {
            "tags": [],
            "needs_background": "light"
          }
        }
      ]
    },
    {
      "cell_type": "markdown",
      "metadata": {
        "id": "XXMuY6GYA22r",
        "colab_type": "text"
      },
      "source": [
        "# 2. High dimensional function "
      ]
    },
    {
      "cell_type": "markdown",
      "metadata": {
        "id": "QA8JWXzGB-2j",
        "colab_type": "text"
      },
      "source": [
        "$$g(x, y;\\theta) =  = \\theta_0 + \\theta_1x + \\theta_2y + \\theta_3xy + \\theta_4x^2 + \\theta_5 y^2+ \\theta_6x^2y^2$$ "
      ]
    },
    {
      "cell_type": "markdown",
      "metadata": {
        "id": "ltIV9Tk9BEMC",
        "colab_type": "text"
      },
      "source": [
        "# 3. Plot the training error"
      ]
    },
    {
      "cell_type": "code",
      "metadata": {
        "id": "0lgvyEwX4c0s",
        "colab_type": "code",
        "colab": {
          "base_uri": "https://localhost:8080/",
          "height": 281
        },
        "outputId": "e800aebb-86fe-4b3a-8e20-4109c8b4db37"
      },
      "source": [
        "#plot the value of the objective function at every optimization step\n",
        "plt.plot(range(0, iteration), cost_list, 'blue')\n",
        "plt.title('training error')\n",
        "plt.show()"
      ],
      "execution_count": 145,
      "outputs": [
        {
          "output_type": "display_data",
          "data": {
            "image/png": "[encoded data removed]",
            "text/plain": [
              "<Figure size 432x288 with 1 Axes>"
            ]
          },
          "metadata": {
            "tags": [],
            "needs_background": "light"
          }
        }
      ]
    },
    {
      "cell_type": "markdown",
      "metadata": {
        "id": "Bj1NI0v4BKQD",
        "colab_type": "text"
      },
      "source": [
        "#4. Plot the training accuracy"
      ]
    },
    {
      "cell_type": "code",
      "metadata": {
        "id": "2maF2vGh5rk9",
        "colab_type": "code",
        "colab": {
          "base_uri": "https://localhost:8080/",
          "height": 299
        },
        "outputId": "16560e65-5b1a-4cb6-d9d0-c949de51a20e"
      },
      "source": [
        "plt.plot(range(0, iteration), accuracy_list, 'red')\n",
        "plt.title('training accuracy')\n",
        "plt.show()\n",
        "print(accuracy_list[iteration-1])"
      ],
      "execution_count": 146,
      "outputs": [
        {
          "output_type": "display_data",
          "data": {
            "image/png": "[encoded data removed]",
            "text/plain": [
              "<Figure size 432x288 with 1 Axes>"
            ]
          },
          "metadata": {
            "tags": [],
            "needs_background": "light"
          }
        },
        {
          "output_type": "stream",
          "text": [
            "0.8559322033898306\n"
          ],
          "name": "stdout"
        }
      ]
    },
    {
      "cell_type": "markdown",
      "metadata": {
        "id": "0Cev2OaTBUNw",
        "colab_type": "text"
      },
      "source": [
        "#5. Final training accuracy"
      ]
    },
    {
      "cell_type": "markdown",
      "metadata": {
        "id": "fT-CMNJDCN61",
        "colab_type": "text"
      },
      "source": [
        "###85.59%\n",
        "\n"
      ]
    },
    {
      "cell_type": "markdown",
      "metadata": {
        "id": "AxjNJ7ptBX3m",
        "colab_type": "text"
      },
      "source": [
        "#6. Plot the optimal classifier superimposed on the training data"
      ]
    },
    {
      "cell_type": "code",
      "metadata": {
        "id": "7q0_Pkce607J",
        "colab_type": "code",
        "colab": {
          "base_uri": "https://localhost:8080/",
          "height": 297
        },
        "outputId": "aa30026c-9649-4e7a-d200-37c4740278af"
      },
      "source": [
        "plt.figure()\n",
        "\n",
        "grid_size = 500\n",
        "A, B = np.meshgrid(np.linspace(data[:, 0].min(), data[:, 0].max(), grid_size),\n",
        "                   np.linspace(data[:, 1].min(), data[:, 1].max(), grid_size))\n",
        "z = theta0 + theta1*A + theta2*B + theta3*A*B + theta4*A*A + theta5*B*B + theta6*A*A*B*B\n",
        "\n",
        "plt.contour(A, B, z, 0, colors = 'green')\n",
        "plt.scatter(pointX0, pointY0, c='b')\n",
        "plt.scatter(pointX1, pointY1, c='r')\n",
        "plt.tight_layout()\n",
        "plt.gca().set_aspect('equal', adjustable='box')\n",
        "plt.show()"
      ],
      "execution_count": 167,
      "outputs": [
        {
          "output_type": "display_data",
          "data": {
            "image/png": "[encoded data removed]",
            "text/plain": [
              "<Figure size 432x288 with 1 Axes>"
            ]
          },
          "metadata": {
            "tags": [],
            "needs_background": "light"
          }
        }
      ]
    }
  ]
}
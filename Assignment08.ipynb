{
  "nbformat": 4,
  "nbformat_minor": 0,
  "metadata": {
    "colab": {
      "name": "Assignment08.ipynb",
      "provenance": [],
      "mount_file_id": "12IeGNqxtmI-LfjdNSjlKSw0l7tm2reMT",
      "authorship_tag": "ABX9TyNCM9tg+BeCVhvBNqLMQdL8",
      "include_colab_link": true
    },
    "kernelspec": {
      "name": "python3",
      "display_name": "Python 3"
    }
  },
  "cells": [
    {
      "cell_type": "markdown",
      "metadata": {
        "id": "view-in-github",
        "colab_type": "text"
      },
      "source": [
        "<a href=\"https://colab.research.google.com/github/ahyen/ML-assignment/blob/master/Assignment08.ipynb\" target=\"_parent\"><img src=\"https://colab.research.google.com/assets/colab-badge.svg\" alt=\"Open In Colab\"/></a>"
      ]
    },
    {
      "cell_type": "code",
      "metadata": {
        "id": "ad4hin0po0Rw",
        "colab_type": "code",
        "colab": {
          "base_uri": "https://localhost:8080/",
          "height": 34
        },
        "outputId": "dfd97039-95d4-4dfb-e3bb-7007c4c491ff"
      },
      "source": [
        "cd ../content/drive/My Drive/Colab Notebooks/ML"
      ],
      "execution_count": 1,
      "outputs": [
        {
          "output_type": "stream",
          "text": [
            "/content/drive/My Drive/Colab Notebooks/ML\n"
          ],
          "name": "stdout"
        }
      ]
    },
    {
      "cell_type": "code",
      "metadata": {
        "id": "44Omyt2WpGjr",
        "colab_type": "code",
        "colab": {
          "base_uri": "https://localhost:8080/",
          "height": 240
        },
        "outputId": "e1553fd0-9612-4a4a-ce96-5fca498352bd"
      },
      "source": [
        "import matplotlib.pyplot as plt\n",
        "import numpy as np\n",
        "\n",
        "file_data   = \"mnist_test.csv\"\n",
        "handle_file = open(file_data, \"r\")\n",
        "data        = handle_file.readlines()\n",
        "handle_file.close()\n",
        "\n",
        "size_row    = 28    # height of the image\n",
        "size_col    = 28    # width of the image\n",
        "\n",
        "num_image   = len(data)\n",
        "count       = 0     # count for the number of images\n",
        "\n",
        "#\n",
        "# make a matrix each column of which represents an images in a vector form \n",
        "#\n",
        "list_image  = np.empty((size_row * size_col, num_image), dtype=float)\n",
        "list_label  = np.empty(num_image, dtype=int)\n",
        "\n",
        "for line in data:\n",
        "\n",
        "    line_data   = line.split(',')\n",
        "    label       = line_data[0]\n",
        "    im_vector   = np.asfarray(line_data[1:])\n",
        "\n",
        "    list_label[count]       = label\n",
        "    list_image[:, count]    = im_vector    \n",
        "\n",
        "    count += 1\n",
        "\n",
        "fig, axes = plt.subplots(2, 5)\n",
        "\n",
        "for i in range (2):\n",
        "  for j in range (5):\n",
        "    image_by_label = list_image[:, list_label==i*5+j]         #collect data with the same label\n",
        "    average_of_image = image_by_label.mean(axis=1)      #get average images for each label\n",
        "    im_matrix = average_of_image.reshape((size_row, size_col))\n",
        "    axes[i][j].imshow(im_matrix, cmap='Greys', interpolation='None')\n",
        "    axes[i][j].set_title(i*5 + j)   \n",
        "\n",
        "plt.show()"
      ],
      "execution_count": 30,
      "outputs": [
        {
          "output_type": "display_data",
          "data": {
            "image/png": "[encoded data removed]",
            "text/plain": [
              "<Figure size 432x288 with 10 Axes>"
            ]
          },
          "metadata": {
            "tags": [],
            "needs_background": "light"
          }
        }
      ]
    }
  ]
}
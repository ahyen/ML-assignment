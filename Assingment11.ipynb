{
  "nbformat": 4,
  "nbformat_minor": 0,
  "metadata": {
    "colab": {
      "name": "Assingment11",
      "provenance": [],
      "collapsed_sections": [],
      "mount_file_id": "1lr968izkj3bfbAzNmaJH_k8bWBkcf3Fw",
      "authorship_tag": "ABX9TyOm06bWU6hzwSv029PuwwA2",
      "include_colab_link": true
    },
    "kernelspec": {
      "name": "python3",
      "display_name": "Python 3"
    }
  },
  "cells": [
    {
      "cell_type": "markdown",
      "metadata": {
        "id": "view-in-github",
        "colab_type": "text"
      },
      "source": [
        "<a href=\"https://colab.research.google.com/github/ahyen/ML-assignment/blob/master/Assingment11.ipynb\" target=\"_parent\"><img src=\"https://colab.research.google.com/assets/colab-badge.svg\" alt=\"Open In Colab\"/></a>"
      ]
    },
    {
      "cell_type": "code",
      "metadata": {
        "id": "Mq0kyL3av1SS",
        "colab_type": "code",
        "outputId": "4ab90021-b544-4e67-dc89-f23067d60cdd",
        "colab": {
          "base_uri": "https://localhost:8080/",
          "height": 35
        }
      },
      "source": [
        "cd ../content/drive/My Drive/Colab Notebooks/ML"
      ],
      "execution_count": 2,
      "outputs": [
        {
          "output_type": "stream",
          "text": [
            "/content/drive/My Drive/Colab Notebooks/ML\n"
          ],
          "name": "stdout"
        }
      ]
    },
    {
      "cell_type": "code",
      "metadata": {
        "id": "jeGuEIHhv1m4",
        "colab_type": "code",
        "outputId": "46a54bcc-f38b-49b8-faf0-bc3ffb9d6110",
        "colab": {
          "base_uri": "https://localhost:8080/",
          "height": 87
        }
      },
      "source": [
        "import numpy as np\n",
        "import re\n",
        "import nltk\n",
        "from sklearn.datasets import load_files\n",
        "nltk.download('stopwords')\n",
        "nltk.download('wordnet')\n",
        "import pickle\n",
        "from nltk.corpus import stopwords\n",
        "from nltk.stem import WordNetLemmatizer\n",
        "from sklearn.feature_extraction.text import CountVectorizer\n",
        "from sklearn.feature_extraction.text import TfidfTransformer\n",
        "from sklearn.model_selection import train_test_split\n",
        "\n",
        "\n",
        "\n",
        "review_data = load_files(r\"movie_review\")\n",
        "X, y = review_data.data, review_data.target\n",
        "\n",
        "documents = []\n",
        "\n",
        "stemmer = WordNetLemmatizer()\n",
        "\n",
        "for sen in range(0, len(X)):\n",
        "    # Remove all the special characters\n",
        "    document = re.sub(r'\\W', ' ', str(X[sen]))\n",
        "    \n",
        "    # remove all single characters\n",
        "    document = re.sub(r'\\s+[a-zA-Z]\\s+', ' ', document)\n",
        "    \n",
        "    # Remove single characters from the start\n",
        "    document = re.sub(r'\\^[a-zA-Z]\\s+', ' ', document) \n",
        "    \n",
        "    # Substituting multiple spaces with single space\n",
        "    document = re.sub(r'\\s+', ' ', document, flags=re.I)\n",
        "    \n",
        "    # Removing prefixed 'b'\n",
        "    document = re.sub(r'^b\\s+', '', document)\n",
        "    \n",
        "    # Converting to Lowercase\n",
        "    document = document.lower()\n",
        "    \n",
        "    # Lemmatization\n",
        "    document = document.split()\n",
        "    document = [stemmer.lemmatize(word) for word in document]\n",
        "    document = ' '.join(document)\n",
        "    \n",
        "    documents.append(document)\n",
        "\n",
        "vectorizer = CountVectorizer(max_features=1500, min_df=3, max_df=0.8, stop_words=stopwords.words('english'))\n",
        "X = vectorizer.fit_transform(documents).toarray()\n",
        "\n",
        "tfidfconverter = TfidfTransformer()\n",
        "X = tfidfconverter.fit_transform(X).toarray()\n",
        "\n",
        "X_train, X_test, y_train, y_test = train_test_split(X, y, test_size=0.3, shuffle=False)\n"
      ],
      "execution_count": 11,
      "outputs": [
        {
          "output_type": "stream",
          "text": [
            "[nltk_data] Downloading package stopwords to /root/nltk_data...\n",
            "[nltk_data]   Package stopwords is already up-to-date!\n",
            "[nltk_data] Downloading package wordnet to /root/nltk_data...\n",
            "[nltk_data]   Package wordnet is already up-to-date!\n"
          ],
          "name": "stdout"
        }
      ]
    },
    {
      "cell_type": "code",
      "metadata": {
        "id": "dcs7DCKP94zQ",
        "colab_type": "code",
        "outputId": "91c0b86f-e47e-4bcc-9574-44c5352ce615",
        "colab": {
          "base_uri": "https://localhost:8080/",
          "height": 87
        }
      },
      "source": [
        "print(X_train.shape)\n",
        "print(X_test.shape)\n",
        "print(y_train.shape)\n",
        "print(y_test.shape)"
      ],
      "execution_count": 0,
      "outputs": [
        {
          "output_type": "stream",
          "text": [
            "(1400, 1500)\n",
            "(600, 1500)\n",
            "(1400,)\n",
            "(600,)\n"
          ],
          "name": "stdout"
        }
      ]
    },
    {
      "cell_type": "code",
      "metadata": {
        "id": "VyjM3zKF6w1j",
        "colab_type": "code",
        "colab": {}
      },
      "source": [
        "#set training parameter\n",
        "# np.random.seed(40)\n",
        "u = np.random.randn(300, 1500)\n",
        "v = np.random.randn(60, 300)\n",
        "w = np.random.randn(1, 60)\n",
        "\n",
        "n = 300*1500 + 60*300 + 60\n",
        "bias1 = np.random.randn(1)\n",
        "bias2 = np.random.randn(1)\n",
        "bias3 = np.random.randn(1)"
      ],
      "execution_count": 0,
      "outputs": []
    },
    {
      "cell_type": "code",
      "metadata": {
        "id": "kt3mB789VarU",
        "colab_type": "code",
        "colab": {}
      },
      "source": [
        "def decision(h):\n",
        "  if (h > 0.5):\n",
        "      i = 1\n",
        "  else: \n",
        "      i = 0\n",
        "  return i"
      ],
      "execution_count": 0,
      "outputs": []
    },
    {
      "cell_type": "code",
      "metadata": {
        "id": "cuCAWGeOD7rp",
        "colab_type": "code",
        "colab": {}
      },
      "source": [
        "learning_rate = 0.3336666\n",
        "lambda_ = 0.00001\n",
        "cost_list = []\n",
        "accuracy_list = []\n",
        "test_cost_list = []\n",
        "test_accuracy_list = []\n",
        "y_pred_train = []\n",
        "y_pred_test = []\n",
        "\n",
        "for epoch in range(100):\n",
        "  correct = 0\n",
        "  correct_test = 0\n",
        "\n",
        "  if epoch>50:\n",
        "    learning_rate = 0.1\n",
        "  elif epoch>80:\n",
        "    learning_rate = 0.001\n",
        "\n",
        "  for i in range(1400):\n",
        "    x = X_train[i]\n",
        "\n",
        "    # print(x.shape)\n",
        "    #first hidden layer\n",
        "    y_ = (np.dot(u, x)) + bias1\n",
        "    y = 1/(1+np.exp(-y_))\n",
        "    # print(y.shape)\n",
        "    #second hidden layer\n",
        "    z_ = (np.dot(v, y)) + bias2\n",
        "    z = 1/(1+np.exp(-z_))\n",
        "    # print(v.shape)\n",
        "    # print(z.shape)\n",
        "    #output layer\n",
        "    h_ = (np.dot(w, z)) + bias3\n",
        "    h = 1/(1+np.exp(-h_))\n",
        "    # print(h.shape)\n",
        "    # accuracy\n",
        "\n",
        "    if (decision(h) == y_train[i]):\n",
        "      correct += 1\n",
        "\n",
        "    #cost\n",
        "    cost =+ np.sum(- y_train[i] * np.log(h) - (1- y_train[i])*np.log(1 - h)) + (lambda_/2*n) * (np.sum(w*w) + np.sum(v*v) + np.sum(u*u))\n",
        "    \n",
        "    delta3 = (h - y_train[i]) * h * (1 - h)\n",
        "    bias3 = bias3 - learning_rate * delta3\n",
        "    # print(\"delta3 : \", delta3.shape)\n",
        "    # print(\"z:\", z.shape)\n",
        "    # print(np.dot(w.T, delta3).shape)\n",
        "    delta2 = np.dot(w.T, delta3) * z * (1 - z)\n",
        "    bias2 = bias2 - learning_rate * delta2\n",
        "    # print(\"delta2:\", delta2.shape)\n",
        "    # print(\"w.T:\", w.T.shape)\n",
        "    delta1 = np.dot(v.T, delta2) * y * (1 - y)\n",
        "    bias1 = bias1 - learning_rate * delta1\n",
        "\n",
        "    #Gradient descent\n",
        "    w = w - learning_rate * (np.dot(delta3.reshape(1, 1), z.reshape(1, 60)) + (lambda_/60)*w)\n",
        "    v = v - learning_rate * (np.dot(delta2.reshape(60, 1), y.reshape(1, 300)) + (lambda_/60*300)*v)\n",
        "    u = u - learning_rate * (np.dot(delta1.reshape(300, 1), x.reshape(1, 1500)) + (lambda_/300*1500)*u)\n",
        "\n",
        "  accuracy_list.append(correct/1400)\n",
        "  print(epoch, \":\", correct/1400)\n",
        "  cost_list.append(cost/1400)\n",
        "  \n",
        "  for i in range(600):\n",
        "    x_test = X_test[i]\n",
        "\n",
        "    test_y_ = (np.dot(u, x_test)) + bias1\n",
        "    test_y = 1/(1+np.exp(-test_y_))\n",
        "\n",
        "    test_z_ = (np.dot(v, test_y)) + bias2\n",
        "    test_z = 1/(1+np.exp(-test_z_))\n",
        "\n",
        "    test_h_ = (np.dot(w, test_z)) + bias3\n",
        "    test_h = 1/(1+np.exp(-test_h_))\n",
        "\n",
        "    if (decision(test_h) == y_test[i]):\n",
        "      correct_test += 1\n",
        "\n",
        "    test_cost =+ np.sum(- y_test[i] * np.log(test_h) - (1- y_test[i])*np.log(1 - test_h)) +  (lambda_/2*n) * (np.sum(w*w) + np.sum(v*v) + np.sum(u*u))\n",
        "  test_accuracy_list.append(correct_test/600)\n",
        "  print(\"test:\" , correct_test/600)\n",
        "  test_cost_list.append(test_cost/600)"
      ],
      "execution_count": 0,
      "outputs": []
    },
    {
      "cell_type": "code",
      "metadata": {
        "id": "r8jDigrhZa6_",
        "colab_type": "code",
        "colab": {}
      },
      "source": [
        " for i in range(1400):\n",
        "    x = X_train[i]\n",
        "\n",
        "    #first hidden layer\n",
        "    y_ = (np.dot(u, x)) + bias1\n",
        "    y = 1/(1+np.exp(-y_))\n",
        "\n",
        "    #second hidden layer\n",
        "    z_ = (np.dot(v, y)) + bias2\n",
        "    z = 1/(1+np.exp(-z_))\n",
        "\n",
        "    #output layer\n",
        "    h_ = (np.dot(w, z)) + bias3\n",
        "    h = 1/(1+np.exp(-h_))\n",
        "\n",
        "    if (h > 0.5):\n",
        "      h = 1\n",
        "    else: h = 0\n",
        "    y_pred_train.append(h)"
      ],
      "execution_count": 0,
      "outputs": []
    },
    {
      "cell_type": "code",
      "metadata": {
        "id": "kohn1hgJaR_x",
        "colab_type": "code",
        "outputId": "a31e0318-9e4f-4470-8d9a-6b034bf88428",
        "colab": {
          "base_uri": "https://localhost:8080/",
          "height": 52
        }
      },
      "source": [
        "print(len(y_pred_train))\n",
        "print(len(X_train))"
      ],
      "execution_count": 0,
      "outputs": [
        {
          "output_type": "stream",
          "text": [
            "1400\n",
            "1400\n"
          ],
          "name": "stdout"
        }
      ]
    },
    {
      "cell_type": "code",
      "metadata": {
        "id": "4vxTwMo4ZUeF",
        "colab_type": "code",
        "colab": {}
      },
      "source": [
        "#test using final parameter\n",
        "classified_list = []\n",
        "misclassified_list = []\n",
        "predict_list = []\n",
        "for i in range(600):\n",
        "  x_test_data = X_test[i]\n",
        "\n",
        "  test_y_ = (np.dot(u, x_test_data)) + bias1\n",
        "  test_y = 1/(1 + np.exp(-test_y_))\n",
        "  \n",
        "  test_z_ = (np.dot(v, test_y)) + bias2\n",
        "  test_z = 1/(1+np.exp(-test_z_))\n",
        "\n",
        "  test_h_ = (np.dot(w, test_z)) + bias3\n",
        "  test_h = 1/(1+np.exp(-test_h_))\n",
        "\n",
        "  if (test_h > 0.5):\n",
        "    test_h = 1\n",
        "  else: test_h = 0\n",
        "\n",
        "  y_pred_test.append(test_h)"
      ],
      "execution_count": 0,
      "outputs": []
    },
    {
      "cell_type": "markdown",
      "metadata": {
        "id": "1lgpiM-Vjufj",
        "colab_type": "text"
      },
      "source": [
        "\n",
        "\n",
        "---\n",
        "\n",
        "# **Result**"
      ]
    },
    {
      "cell_type": "markdown",
      "metadata": {
        "id": "Tj4v61VcjyeD",
        "colab_type": "text"
      },
      "source": [
        "### **1. Plot the loss curve**"
      ]
    },
    {
      "cell_type": "code",
      "metadata": {
        "id": "epCZNr5EkeB9",
        "colab_type": "code",
        "outputId": "90d203e6-0399-46d8-8cad-29a3ab704f3d",
        "colab": {
          "base_uri": "https://localhost:8080/",
          "height": 281
        }
      },
      "source": [
        "import matplotlib.pyplot as plt\n",
        "plt.plot(range(0, 99), cost_list, 'b', label = 'training loss')\n",
        "plt.plot(range(0, 99), test_cost_list, 'r', label = 'testing loss')\n",
        "plt.title('loss')\n",
        "plt.legend()\n",
        "plt.show()"
      ],
      "execution_count": 56,
      "outputs": [
        {
          "output_type": "display_data",
          "data": {
            "image/png": "[encoded data removed]",
            "text/plain": [
              "<Figure size 432x288 with 1 Axes>"
            ]
          },
          "metadata": {
            "tags": [],
            "needs_background": "light"
          }
        }
      ]
    },
    {
      "cell_type": "markdown",
      "metadata": {
        "id": "nGre9CXNjy7p",
        "colab_type": "text"
      },
      "source": [
        "### **2. Plot the accuracy curve**"
      ]
    },
    {
      "cell_type": "code",
      "metadata": {
        "id": "dHZ6LcWeki6K",
        "colab_type": "code",
        "outputId": "fddcd306-2aaf-4ac3-951e-c5115dfa1f7b",
        "colab": {
          "base_uri": "https://localhost:8080/",
          "height": 281
        }
      },
      "source": [
        "plt.plot(range(0, 99), accuracy_list, 'b', label = 'training accuracy')\n",
        "plt.plot(range(0, 99), test_accuracy_list, 'r', label = 'testing accuracy')\n",
        "plt.title('accuracy')\n",
        "plt.legend()\n",
        "plt.show()"
      ],
      "execution_count": 58,
      "outputs": [
        {
          "output_type": "display_data",
          "data": {
            "image/png": "[encoded data removed]",
            "text/plain": [
              "<Figure size 432x288 with 1 Axes>"
            ]
          },
          "metadata": {
            "tags": [],
            "needs_background": "light"
          }
        }
      ]
    },
    {
      "cell_type": "markdown",
      "metadata": {
        "id": "wAcQ1yK3jzZb",
        "colab_type": "text"
      },
      "source": [
        "### **3. Plot the quantitative results**"
      ]
    },
    {
      "cell_type": "markdown",
      "metadata": {
        "id": "xMooBDHL3O_4",
        "colab_type": "text"
      },
      "source": [
        "**Training results**"
      ]
    },
    {
      "cell_type": "code",
      "metadata": {
        "id": "ON62ikCozlLR",
        "colab_type": "code",
        "outputId": "35469a3d-dca5-43e4-8082-25e02e11d094",
        "colab": {
          "base_uri": "https://localhost:8080/",
          "height": 260
        }
      },
      "source": [
        "from sklearn.metrics import classification_report, confusion_matrix, accuracy_score\n",
        "\n",
        "print(\"⋅ confusion_matrix\\n\", confusion_matrix(y_train,y_pred_train))\n",
        "print(\"⋅ classification_report : \\n\", classification_report(y_train,y_pred_train))\n",
        "print(\"⋅ final training accuracy : \", accuracy_score(y_train, y_pred_train))"
      ],
      "execution_count": 64,
      "outputs": [
        {
          "output_type": "stream",
          "text": [
            "⋅ confusion_matrix\n",
            " [[690   8]\n",
            " [  3 699]]\n",
            "⋅ classification_report : \n",
            "               precision    recall  f1-score   support\n",
            "\n",
            "           0       1.00      0.99      0.99       698\n",
            "           1       0.99      1.00      0.99       702\n",
            "\n",
            "    accuracy                           0.99      1400\n",
            "   macro avg       0.99      0.99      0.99      1400\n",
            "weighted avg       0.99      0.99      0.99      1400\n",
            "\n",
            "⋅ final training accuracy :  0.9921428571428571\n"
          ],
          "name": "stdout"
        }
      ]
    },
    {
      "cell_type": "markdown",
      "metadata": {
        "id": "EDlmC_ZM3V-f",
        "colab_type": "text"
      },
      "source": [
        "**Testing results**"
      ]
    },
    {
      "cell_type": "code",
      "metadata": {
        "id": "VL_V1Rc4fCzx",
        "colab_type": "code",
        "outputId": "fd602479-7764-4afb-cf97-2e229458b03e",
        "colab": {
          "base_uri": "https://localhost:8080/",
          "height": 260
        }
      },
      "source": [
        "print(\"⋅ confusion_matrix\\n\", confusion_matrix(y_test,y_pred_test))\n",
        "print(\"⋅ classification_report : \\n\", classification_report(y_test,y_pred_test))\n",
        "print(\"⋅ final testing accuracy : \", accuracy_score(y_test, y_pred_test))"
      ],
      "execution_count": 65,
      "outputs": [
        {
          "output_type": "stream",
          "text": [
            "⋅ confusion_matrix\n",
            " [[242  60]\n",
            " [ 41 257]]\n",
            "⋅ classification_report : \n",
            "               precision    recall  f1-score   support\n",
            "\n",
            "           0       0.86      0.80      0.83       302\n",
            "           1       0.81      0.86      0.84       298\n",
            "\n",
            "    accuracy                           0.83       600\n",
            "   macro avg       0.83      0.83      0.83       600\n",
            "weighted avg       0.83      0.83      0.83       600\n",
            "\n",
            "⋅ final testing accuracy :  0.8316666666666667\n"
          ],
          "name": "stdout"
        }
      ]
    },
    {
      "cell_type": "markdown",
      "metadata": {
        "id": "rnIR-ZZBjz9p",
        "colab_type": "text"
      },
      "source": [
        "# **4. Testing accuracy**"
      ]
    },
    {
      "cell_type": "code",
      "metadata": {
        "id": "FnNoN0TtkjTZ",
        "colab_type": "code",
        "outputId": "dc3e10a1-d933-4680-e6d5-49a319f8c05e",
        "colab": {
          "base_uri": "https://localhost:8080/",
          "height": 35
        }
      },
      "source": [
        "print(\"final testing accuracy : \",  accuracy_score(y_test, y_pred_test)* 100, \"%\")"
      ],
      "execution_count": 66,
      "outputs": [
        {
          "output_type": "stream",
          "text": [
            "final testing accuracy :  83.16666666666667 %\n"
          ],
          "name": "stdout"
        }
      ]
    }
  ]
}
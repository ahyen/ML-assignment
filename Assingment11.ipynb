{
  "nbformat": 4,
  "nbformat_minor": 0,
  "metadata": {
    "colab": {
      "name": "Assingment11",
      "provenance": [],
      "collapsed_sections": [],
      "mount_file_id": "1lr968izkj3bfbAzNmaJH_k8bWBkcf3Fw",
      "authorship_tag": "ABX9TyOeIX5ZfC8ifG83toKzxGmy",
      "include_colab_link": true
    },
    "kernelspec": {
      "name": "python3",
      "display_name": "Python 3"
    }
  },
  "cells": [
    {
      "cell_type": "markdown",
      "metadata": {
        "id": "view-in-github",
        "colab_type": "text"
      },
      "source": [
        "<a href=\"https://colab.research.google.com/github/ahyen/ML-assignment/blob/master/Assingment11.ipynb\" target=\"_parent\"><img src=\"https://colab.research.google.com/assets/colab-badge.svg\" alt=\"Open In Colab\"/></a>"
      ]
    },
    {
      "cell_type": "code",
      "metadata": {
        "id": "Mq0kyL3av1SS",
        "colab_type": "code",
        "outputId": "4ab90021-b544-4e67-dc89-f23067d60cdd",
        "colab": {
          "base_uri": "https://localhost:8080/",
          "height": 35
        }
      },
      "source": [
        "cd ../content/drive/My Drive/Colab Notebooks/ML"
      ],
      "execution_count": 2,
      "outputs": [
        {
          "output_type": "stream",
          "text": [
            "/content/drive/My Drive/Colab Notebooks/ML\n"
          ],
          "name": "stdout"
        }
      ]
    },
    {
      "cell_type": "code",
      "metadata": {
        "id": "jeGuEIHhv1m4",
        "colab_type": "code",
        "outputId": "46a54bcc-f38b-49b8-faf0-bc3ffb9d6110",
        "colab": {
          "base_uri": "https://localhost:8080/",
          "height": 87
        }
      },
      "source": [
        "import numpy as np\n",
        "import re\n",
        "import nltk\n",
        "from sklearn.datasets import load_files\n",
        "nltk.download('stopwords')\n",
        "nltk.download('wordnet')\n",
        "import pickle\n",
        "from nltk.corpus import stopwords\n",
        "from nltk.stem import WordNetLemmatizer\n",
        "from sklearn.feature_extraction.text import CountVectorizer\n",
        "from sklearn.feature_extraction.text import TfidfTransformer\n",
        "from sklearn.model_selection import train_test_split\n",
        "\n",
        "\n",
        "review_data = load_files(r\"movie_review\")\n",
        "X, y = review_data.data, review_data.target\n",
        "\n",
        "documents = []\n",
        "\n",
        "stemmer = WordNetLemmatizer()\n",
        "\n",
        "for sen in range(0, len(X)):\n",
        "    # Remove all the special characters\n",
        "    document = re.sub(r'\\W', ' ', str(X[sen]))\n",
        "    \n",
        "    # remove all single characters\n",
        "    document = re.sub(r'\\s+[a-zA-Z]\\s+', ' ', document)\n",
        "    \n",
        "    # Remove single characters from the start\n",
        "    document = re.sub(r'\\^[a-zA-Z]\\s+', ' ', document) \n",
        "    \n",
        "    # Substituting multiple spaces with single space\n",
        "    document = re.sub(r'\\s+', ' ', document, flags=re.I)\n",
        "    \n",
        "    # Removing prefixed 'b'\n",
        "    document = re.sub(r'^b\\s+', '', document)\n",
        "    \n",
        "    # Converting to Lowercase\n",
        "    document = document.lower()\n",
        "    \n",
        "    # Lemmatization\n",
        "    document = document.split()\n",
        "    document = [stemmer.lemmatize(word) for word in document]\n",
        "    document = ' '.join(document)\n",
        "    \n",
        "    documents.append(document)\n",
        "\n",
        "vectorizer = CountVectorizer(max_features=1500, min_df=3, max_df=0.8, stop_words=stopwords.words('english'))\n",
        "X = vectorizer.fit_transform(documents).toarray()\n",
        "\n",
        "tfidfconverter = TfidfTransformer()\n",
        "X = tfidfconverter.fit_transform(X).toarray()\n",
        "\n",
        "X_train, X_test, y_train, y_test = train_test_split(X, y, test_size=0.3, shuffle=False)\n"
      ],
      "execution_count": 11,
      "outputs": [
        {
          "output_type": "stream",
          "text": [
            "[nltk_data] Downloading package stopwords to /root/nltk_data...\n",
            "[nltk_data]   Package stopwords is already up-to-date!\n",
            "[nltk_data] Downloading package wordnet to /root/nltk_data...\n",
            "[nltk_data]   Package wordnet is already up-to-date!\n"
          ],
          "name": "stdout"
        }
      ]
    },
    {
      "cell_type": "code",
      "metadata": {
        "id": "dcs7DCKP94zQ",
        "colab_type": "code",
        "outputId": "91c0b86f-e47e-4bcc-9574-44c5352ce615",
        "colab": {
          "base_uri": "https://localhost:8080/",
          "height": 87
        }
      },
      "source": [
        "print(X_train.shape)\n",
        "print(X_test.shape)\n",
        "print(y_train.shape)\n",
        "print(y_test.shape)"
      ],
      "execution_count": 0,
      "outputs": [
        {
          "output_type": "stream",
          "text": [
            "(1400, 1500)\n",
            "(600, 1500)\n",
            "(1400,)\n",
            "(600,)\n"
          ],
          "name": "stdout"
        }
      ]
    },
    {
      "cell_type": "code",
      "metadata": {
        "id": "VyjM3zKF6w1j",
        "colab_type": "code",
        "colab": {}
      },
      "source": [
        "#set training parameter\n",
        "# np.random.seed(40)\n",
        "u = np.random.randn(300, 1500)\n",
        "v = np.random.randn(60, 300)\n",
        "w = np.random.randn(1, 60)\n",
        "\n",
        "n = 300*1500 + 60*300 + 60\n",
        "bias1 = np.random.randn(1)\n",
        "bias2 = np.random.randn(1)\n",
        "bias3 = np.random.randn(1)"
      ],
      "execution_count": 0,
      "outputs": []
    },
    {
      "cell_type": "code",
      "metadata": {
        "id": "kt3mB789VarU",
        "colab_type": "code",
        "colab": {}
      },
      "source": [
        "def decision(h):\n",
        "  if (h > 0.5):\n",
        "      i = 1\n",
        "  else: \n",
        "      i = 0\n",
        "  return i"
      ],
      "execution_count": 0,
      "outputs": []
    },
    {
      "cell_type": "code",
      "metadata": {
        "id": "cuCAWGeOD7rp",
        "colab_type": "code",
        "outputId": "bfaf38a7-a246-4d15-ace5-c12afda76206",
        "colab": {
          "base_uri": "https://localhost:8080/",
          "height": 1000
        }
      },
      "source": [
        "learning_rate = 0.3336666\n",
        "lambda_ = 0.00001\n",
        "cost_list = []\n",
        "accuracy_list = []\n",
        "test_cost_list = []\n",
        "test_accuracy_list = []\n",
        "y_pred_train = []\n",
        "y_pred_test = []\n",
        "\n",
        "for epoch in range(150):\n",
        "  correct = 0\n",
        "  correct_test = 0\n",
        "\n",
        "  for i in range(1400):\n",
        "    x = X_train[i]\n",
        "\n",
        "    # print(x.shape)\n",
        "    #first hidden layer\n",
        "    y_ = (np.dot(u, x)) + bias1\n",
        "    y = 1/(1+np.exp(-y_))\n",
        "    # print(y.shape)\n",
        "    #second hidden layer\n",
        "    z_ = (np.dot(v, y)) + bias2\n",
        "    z = 1/(1+np.exp(-z_))\n",
        "    # print(v.shape)\n",
        "    # print(z.shape)\n",
        "    #output layer\n",
        "    h_ = (np.dot(w, z)) + bias3\n",
        "    h = 1/(1+np.exp(-h_))\n",
        "    # print(h.shape)\n",
        "    # accuracy\n",
        "\n",
        "    if (decision(h) == y_train[i]):\n",
        "      correct += 1\n",
        "\n",
        "    #cost\n",
        "    cost =+ np.sum(- y_train[i] * np.log(h) - (1- y_train[i])*np.log(1 - h)) + (lambda_/2*n) * (np.sum(w*w) + np.sum(v*v) + np.sum(u*u))\n",
        "    \n",
        "    delta3 = (h - y_train[i]) * h * (1 - h)\n",
        "    bias3 = bias3 - learning_rate * delta3\n",
        "    # print(\"delta3 : \", delta3.shape)\n",
        "    # print(\"z:\", z.shape)\n",
        "    # print(np.dot(w.T, delta3).shape)\n",
        "    delta2 = np.dot(w.T, delta3) * z * (1 - z)\n",
        "    bias2 = bias2 - learning_rate * delta2\n",
        "    # print(\"delta2:\", delta2.shape)\n",
        "    # print(\"w.T:\", w.T.shape)\n",
        "    delta1 = np.dot(v.T, delta2) * y * (1 - y)\n",
        "    bias1 = bias1 - learning_rate * delta1\n",
        "\n",
        "    #Gradient descent\n",
        "    w = w - learning_rate * (np.dot(delta3.reshape(1, 1), z.reshape(1, 60)) + (lambda_/60)*w)\n",
        "    v = v - learning_rate * (np.dot(delta2.reshape(60, 1), y.reshape(1, 300)) + (lambda_/60*300)*v)\n",
        "    u = u - learning_rate * (np.dot(delta1.reshape(300, 1), x.reshape(1, 1500)) + (lambda_/300*1500)*u)\n",
        "\n",
        "  accuracy_list.append(correct/1400)\n",
        "  print(epoch, \":\", correct/1400)\n",
        "  cost_list.append(cost/1400)\n",
        "  \n",
        "  for i in range(600):\n",
        "    x_test = X_test[i]\n",
        "\n",
        "    test_y_ = (np.dot(u, x_test)) + bias1\n",
        "    test_y = 1/(1+np.exp(-test_y_))\n",
        "\n",
        "    test_z_ = (np.dot(v, test_y)) + bias2\n",
        "    test_z = 1/(1+np.exp(-test_z_))\n",
        "\n",
        "    test_h_ = (np.dot(w, test_z)) + bias3\n",
        "    test_h = 1/(1+np.exp(-test_h_))\n",
        "\n",
        "    if (decision(test_h) == y_test[i]):\n",
        "      correct_test += 1\n",
        "\n",
        "    test_cost =+ np.sum(- y_test[i] * np.log(test_h) - (1- y_test[i])*np.log(1 - test_h)) +  (lambda_/2*n) * (np.sum(w*w) + np.sum(v*v) + np.sum(u*u))\n",
        "  test_accuracy_list.append(correct_test/600)\n",
        "  print(\"test:\" , correct_test/600)\n",
        "  test_cost_list.append(test_cost/600)"
      ],
      "execution_count": 30,
      "outputs": [
        {
          "output_type": "stream",
          "text": [
            "0 : 0.5571428571428572\n",
            "test: 0.55\n",
            "1 : 0.6392857142857142\n",
            "test: 0.61\n",
            "2 : 0.7242857142857143\n",
            "test: 0.6516666666666666\n",
            "3 : 0.7821428571428571\n",
            "test: 0.6783333333333333\n",
            "4 : 0.8335714285714285\n",
            "test: 0.6866666666666666\n",
            "5 : 0.875\n",
            "test: 0.6716666666666666\n",
            "6 : 0.9071428571428571\n",
            "test: 0.6783333333333333\n",
            "7 : 0.9314285714285714\n",
            "test: 0.6816666666666666\n",
            "8 : 0.9471428571428572\n",
            "test: 0.685\n",
            "9 : 0.9564285714285714\n",
            "test: 0.7283333333333334\n",
            "10 : 0.96\n",
            "test: 0.7216666666666667\n",
            "11 : 0.9692857142857143\n",
            "test: 0.7283333333333334\n",
            "12 : 0.9771428571428571\n",
            "test: 0.7533333333333333\n",
            "13 : 0.9828571428571429\n",
            "test: 0.7333333333333333\n",
            "14 : 0.985\n",
            "test: 0.7566666666666667\n",
            "15 : 0.9828571428571429\n",
            "test: 0.745\n",
            "16 : 0.9857142857142858\n",
            "test: 0.7316666666666667\n",
            "17 : 0.9857142857142858\n",
            "test: 0.7366666666666667\n",
            "18 : 0.9864285714285714\n",
            "test: 0.74\n",
            "19 : 0.9835714285714285\n",
            "test: 0.7433333333333333\n",
            "20 : 0.9842857142857143\n",
            "test: 0.7533333333333333\n",
            "21 : 0.965\n",
            "test: 0.7566666666666667\n",
            "22 : 0.98\n",
            "test: 0.68\n",
            "23 : 0.9742857142857143\n",
            "test: 0.755\n",
            "24 : 0.97\n",
            "test: 0.6466666666666666\n",
            "25 : 0.9778571428571429\n",
            "test: 0.7416666666666667\n",
            "26 : 0.9885714285714285\n",
            "test: 0.6766666666666666\n",
            "27 : 0.9814285714285714\n",
            "test: 0.7183333333333334\n",
            "28 : 0.9828571428571429\n",
            "test: 0.7433333333333333\n",
            "29 : 0.975\n",
            "test: 0.765\n",
            "30 : 0.9792857142857143\n",
            "test: 0.655\n",
            "31 : 0.9678571428571429\n",
            "test: 0.7816666666666666\n",
            "32 : 0.9607142857142857\n",
            "test: 0.7783333333333333\n",
            "33 : 0.9671428571428572\n",
            "test: 0.7833333333333333\n",
            "34 : 0.9685714285714285\n",
            "test: 0.7883333333333333\n",
            "35 : 0.9728571428571429\n",
            "test: 0.7883333333333333\n",
            "36 : 0.9771428571428571\n",
            "test: 0.6366666666666667\n",
            "37 : 0.9807142857142858\n",
            "test: 0.7466666666666667\n",
            "38 : 0.975\n",
            "test: 0.75\n",
            "39 : 0.9835714285714285\n",
            "test: 0.7616666666666667\n",
            "40 : 0.9735714285714285\n",
            "test: 0.735\n",
            "41 : 0.9771428571428571\n",
            "test: 0.67\n",
            "42 : 0.9921428571428571\n",
            "test: 0.78\n",
            "43 : 0.9935714285714285\n",
            "test: 0.7816666666666666\n",
            "44 : 0.9685714285714285\n",
            "test: 0.665\n",
            "45 : 0.9607142857142857\n",
            "test: 0.595\n",
            "46 : 0.9678571428571429\n",
            "test: 0.78\n",
            "47 : 0.9778571428571429\n",
            "test: 0.6216666666666667\n",
            "48 : 0.985\n",
            "test: 0.795\n",
            "49 : 0.9764285714285714\n",
            "test: 0.7316666666666667\n",
            "50 : 0.99\n",
            "test: 0.795\n",
            "51 : 0.995\n",
            "test: 0.795\n",
            "52 : 0.9864285714285714\n",
            "test: 0.795\n",
            "53 : 0.9728571428571429\n",
            "test: 0.7983333333333333\n",
            "54 : 0.9192857142857143\n",
            "test: 0.7916666666666666\n",
            "55 : 0.9421428571428572\n",
            "test: 0.8\n",
            "56 : 0.9435714285714286\n",
            "test: 0.7316666666666667\n",
            "57 : 0.9664285714285714\n",
            "test: 0.5433333333333333\n",
            "58 : 0.9592857142857143\n",
            "test: 0.8\n",
            "59 : 0.895\n",
            "test: 0.8\n",
            "60 : 0.9471428571428572\n",
            "test: 0.8\n",
            "61 : 0.945\n",
            "test: 0.8033333333333333\n",
            "62 : 0.9771428571428571\n",
            "test: 0.8033333333333333\n",
            "63 : 0.9821428571428571\n",
            "test: 0.795\n",
            "64 : 0.9728571428571429\n",
            "test: 0.79\n",
            "65 : 0.98\n",
            "test: 0.7933333333333333\n",
            "66 : 0.975\n",
            "test: 0.7633333333333333\n",
            "67 : 0.9842857142857143\n",
            "test: 0.7466666666666667\n",
            "68 : 0.9935714285714285\n",
            "test: 0.8016666666666666\n",
            "69 : 0.995\n",
            "test: 0.8016666666666666\n",
            "70 : 0.995\n",
            "test: 0.8033333333333333\n",
            "71 : 0.995\n",
            "test: 0.8016666666666666\n",
            "72 : 0.995\n",
            "test: 0.8016666666666666\n",
            "73 : 0.995\n",
            "test: 0.8016666666666666\n",
            "74 : 0.995\n",
            "test: 0.8016666666666666\n",
            "75 : 0.995\n",
            "test: 0.8016666666666666\n",
            "76 : 0.995\n",
            "test: 0.8033333333333333\n",
            "77 : 0.995\n",
            "test: 0.8033333333333333\n",
            "78 : 0.995\n",
            "test: 0.8033333333333333\n",
            "79 : 0.995\n",
            "test: 0.8033333333333333\n",
            "80 : 0.995\n",
            "test: 0.8016666666666666\n",
            "81 : 0.995\n",
            "test: 0.8016666666666666\n",
            "82 : 0.995\n",
            "test: 0.8016666666666666\n",
            "83 : 0.995\n",
            "test: 0.8033333333333333\n",
            "84 : 0.995\n",
            "test: 0.8033333333333333\n",
            "85 : 0.995\n",
            "test: 0.8016666666666666\n",
            "86 : 0.995\n",
            "test: 0.8\n",
            "87 : 0.995\n",
            "test: 0.7983333333333333\n",
            "88 : 0.995\n",
            "test: 0.8033333333333333\n",
            "89 : 0.995\n",
            "test: 0.805\n",
            "90 : 0.6257142857142857\n",
            "test: 0.5033333333333333\n",
            "91 : 0.7185714285714285\n",
            "test: 0.515\n",
            "92 : 0.8057142857142857\n",
            "test: 0.55\n",
            "93 : 0.8992857142857142\n",
            "test: 0.6916666666666667\n",
            "94 : 0.9435714285714286\n",
            "test: 0.8033333333333333\n",
            "95 : 0.9542857142857143\n",
            "test: 0.765\n",
            "96 : 0.9642857142857143\n",
            "test: 0.795\n",
            "97 : 0.9514285714285714\n",
            "test: 0.7383333333333333\n",
            "98 : 0.9764285714285714\n",
            "test: 0.725\n",
            "99 : 0.955\n",
            "test: 0.7833333333333333\n",
            "100 : 0.9735714285714285\n",
            "test: 0.785\n",
            "101 : 0.9642857142857143\n",
            "test: 0.75\n",
            "102 : 0.9642857142857143\n",
            "test: 0.6866666666666666\n",
            "103 : 0.9628571428571429\n",
            "test: 0.75\n",
            "104 : 0.9721428571428572\n",
            "test: 0.58\n",
            "105 : 0.9842857142857143\n",
            "test: 0.8083333333333333\n",
            "106 : 0.9914285714285714\n",
            "test: 0.8033333333333333\n",
            "107 : 0.99\n",
            "test: 0.81\n",
            "108 : 0.9957142857142857\n",
            "test: 0.8083333333333333\n",
            "109 : 0.9957142857142857\n",
            "test: 0.8083333333333333\n",
            "110 : 0.9885714285714285\n",
            "test: 0.7833333333333333\n",
            "111 : 0.9964285714285714\n",
            "test: 0.805\n",
            "112 : 0.9964285714285714\n",
            "test: 0.8066666666666666\n",
            "113 : 0.9964285714285714\n",
            "test: 0.81\n",
            "114 : 0.9964285714285714\n",
            "test: 0.81\n",
            "115 : 0.9964285714285714\n",
            "test: 0.81\n",
            "116 : 0.9964285714285714\n",
            "test: 0.81\n",
            "117 : 0.9964285714285714\n",
            "test: 0.81\n",
            "118 : 0.9964285714285714\n",
            "test: 0.81\n",
            "119 : 0.9964285714285714\n",
            "test: 0.8066666666666666\n",
            "120 : 0.94\n",
            "test: 0.7983333333333333\n",
            "121 : 0.9207142857142857\n",
            "test: 0.795\n",
            "122 : 0.9157142857142857\n",
            "test: 0.6566666666666666\n",
            "123 : 0.9178571428571428\n",
            "test: 0.685\n",
            "124 : 0.9735714285714285\n",
            "test: 0.7916666666666666\n",
            "125 : 0.9664285714285714\n",
            "test: 0.7383333333333333\n",
            "126 : 0.9557142857142857\n",
            "test: 0.5783333333333334\n",
            "127 : 0.95\n",
            "test: 0.6933333333333334\n",
            "128 : 0.965\n",
            "test: 0.7966666666666666\n",
            "129 : 0.9742857142857143\n",
            "test: 0.7233333333333334\n",
            "130 : 0.9714285714285714\n",
            "test: 0.7683333333333333\n",
            "131 : 0.9771428571428571\n",
            "test: 0.78\n",
            "132 : 0.9785714285714285\n",
            "test: 0.8016666666666666\n",
            "133 : 0.9764285714285714\n",
            "test: 0.7883333333333333\n",
            "134 : 0.97\n",
            "test: 0.7933333333333333\n",
            "135 : 0.9864285714285714\n",
            "test: 0.8016666666666666\n",
            "136 : 0.9914285714285714\n",
            "test: 0.7966666666666666\n",
            "137 : 0.9921428571428571\n",
            "test: 0.8016666666666666\n",
            "138 : 0.9964285714285714\n",
            "test: 0.8016666666666666\n",
            "139 : 0.9971428571428571\n",
            "test: 0.795\n",
            "140 : 0.9971428571428571\n",
            "test: 0.7966666666666666\n",
            "141 : 0.9971428571428571\n",
            "test: 0.7966666666666666\n",
            "142 : 0.9971428571428571\n",
            "test: 0.7983333333333333\n",
            "143 : 0.9971428571428571\n",
            "test: 0.7983333333333333\n",
            "144 : 0.9971428571428571\n",
            "test: 0.8\n",
            "145 : 0.9971428571428571\n",
            "test: 0.8\n",
            "146 : 0.9971428571428571\n",
            "test: 0.8\n",
            "147 : 0.9971428571428571\n",
            "test: 0.8\n",
            "148 : 0.9971428571428571\n",
            "test: 0.8016666666666666\n",
            "149 : 0.9971428571428571\n",
            "test: 0.7966666666666666\n"
          ],
          "name": "stdout"
        }
      ]
    },
    {
      "cell_type": "code",
      "metadata": {
        "id": "r8jDigrhZa6_",
        "colab_type": "code",
        "colab": {}
      },
      "source": [
        " for i in range(1400):\n",
        "    x = X_train[i]\n",
        "\n",
        "    #first hidden layer\n",
        "    y_ = (np.dot(u, x)) + bias1\n",
        "    y = 1/(1+np.exp(-y_))\n",
        "\n",
        "    #second hidden layer\n",
        "    z_ = (np.dot(v, y)) + bias2\n",
        "    z = 1/(1+np.exp(-z_))\n",
        "\n",
        "    #output layer\n",
        "    h_ = (np.dot(w, z)) + bias3\n",
        "    h = 1/(1+np.exp(-h_))\n",
        "\n",
        "    if (h > 0.5):\n",
        "      h = 1\n",
        "    else: h = 0\n",
        "    y_pred_train.append(h)"
      ],
      "execution_count": 0,
      "outputs": []
    },
    {
      "cell_type": "code",
      "metadata": {
        "id": "kohn1hgJaR_x",
        "colab_type": "code",
        "outputId": "a31e0318-9e4f-4470-8d9a-6b034bf88428",
        "colab": {
          "base_uri": "https://localhost:8080/",
          "height": 52
        }
      },
      "source": [
        "print(len(y_pred_train))\n",
        "print(len(X_train))"
      ],
      "execution_count": 0,
      "outputs": [
        {
          "output_type": "stream",
          "text": [
            "1400\n",
            "1400\n"
          ],
          "name": "stdout"
        }
      ]
    },
    {
      "cell_type": "code",
      "metadata": {
        "id": "4vxTwMo4ZUeF",
        "colab_type": "code",
        "colab": {}
      },
      "source": [
        "#test using final parameter\n",
        "classified_list = []\n",
        "misclassified_list = []\n",
        "predict_list = []\n",
        "for i in range(600):\n",
        "  x_test_data = X_test[i]\n",
        "\n",
        "  test_y_ = (np.dot(u, x_test_data)) + bias1\n",
        "  test_y = 1/(1 + np.exp(-test_y_))\n",
        "  \n",
        "  test_z_ = (np.dot(v, test_y)) + bias2\n",
        "  test_z = 1/(1+np.exp(-test_z_))\n",
        "\n",
        "  test_h_ = (np.dot(w, test_z)) + bias3\n",
        "  test_h = 1/(1+np.exp(-test_h_))\n",
        "\n",
        "  if (test_h > 0.5):\n",
        "    test_h = 1\n",
        "  else: test_h = 0\n",
        "\n",
        "  y_pred_test.append(test_h)"
      ],
      "execution_count": 0,
      "outputs": []
    },
    {
      "cell_type": "markdown",
      "metadata": {
        "id": "1lgpiM-Vjufj",
        "colab_type": "text"
      },
      "source": [
        "\n",
        "\n",
        "---\n",
        "\n",
        "# **Result**"
      ]
    },
    {
      "cell_type": "markdown",
      "metadata": {
        "id": "Tj4v61VcjyeD",
        "colab_type": "text"
      },
      "source": [
        "### **1. Plot the loss curve**"
      ]
    },
    {
      "cell_type": "code",
      "metadata": {
        "id": "epCZNr5EkeB9",
        "colab_type": "code",
        "outputId": "84bcf9f4-6a59-49fd-c86c-2622c80db34a",
        "colab": {
          "base_uri": "https://localhost:8080/",
          "height": 281
        }
      },
      "source": [
        "import matplotlib.pyplot as plt\n",
        "plt.plot(range(0, 150), cost_list, 'b', label = 'training loss')\n",
        "plt.plot(range(0, 150), test_cost_list, 'r', label = 'testing loss')\n",
        "plt.title('loss')\n",
        "plt.legend()\n",
        "plt.show()"
      ],
      "execution_count": 16,
      "outputs": [
        {
          "output_type": "display_data",
          "data": {
            "image/png": "[encoded data removed]",
            "text/plain": [
              "<Figure size 432x288 with 1 Axes>"
            ]
          },
          "metadata": {
            "tags": [],
            "needs_background": "light"
          }
        }
      ]
    },
    {
      "cell_type": "markdown",
      "metadata": {
        "id": "nGre9CXNjy7p",
        "colab_type": "text"
      },
      "source": [
        "### **2. Plot the accuracy curve**"
      ]
    },
    {
      "cell_type": "code",
      "metadata": {
        "id": "dHZ6LcWeki6K",
        "colab_type": "code",
        "outputId": "816e10f8-0339-4be8-9df0-1d34f0bcdc10",
        "colab": {
          "base_uri": "https://localhost:8080/",
          "height": 281
        }
      },
      "source": [
        "plt.plot(range(0, 150), accuracy_list, 'b', label = 'training accuracy')\n",
        "plt.plot(range(0, 150), test_accuracy_list, 'r', label = 'testing accuracy')\n",
        "plt.title('accuracy')\n",
        "plt.legend()\n",
        "plt.show()"
      ],
      "execution_count": 17,
      "outputs": [
        {
          "output_type": "display_data",
          "data": {
            "image/png": "[encoded data removed]",
            "text/plain": [
              "<Figure size 432x288 with 1 Axes>"
            ]
          },
          "metadata": {
            "tags": [],
            "needs_background": "light"
          }
        }
      ]
    },
    {
      "cell_type": "markdown",
      "metadata": {
        "id": "wAcQ1yK3jzZb",
        "colab_type": "text"
      },
      "source": [
        "### **3. Plot the quantitative results**"
      ]
    },
    {
      "cell_type": "markdown",
      "metadata": {
        "id": "xMooBDHL3O_4",
        "colab_type": "text"
      },
      "source": [
        "**Training results**"
      ]
    },
    {
      "cell_type": "code",
      "metadata": {
        "id": "ON62ikCozlLR",
        "colab_type": "code",
        "outputId": "250d58db-6d0b-4ecb-a7e8-cf0a6568a054",
        "colab": {
          "base_uri": "https://localhost:8080/",
          "height": 260
        }
      },
      "source": [
        "from sklearn.metrics import classification_report, confusion_matrix, accuracy_score\n",
        "\n",
        "print(\"⋅ confusion_matrix\\n\", confusion_matrix(y_train,y_pred_train))\n",
        "print(\"⋅ classification_report : \\n\", classification_report(y_train,y_pred_train))\n",
        "print(\"⋅ final training accuracy : \", accuracy_score(y_train, y_pred_train))"
      ],
      "execution_count": 0,
      "outputs": [
        {
          "output_type": "stream",
          "text": [
            "⋅ confusion_matrix\n",
            " [[696   2]\n",
            " [  1 701]]\n",
            "⋅ classification_report : \n",
            "               precision    recall  f1-score   support\n",
            "\n",
            "           0       1.00      1.00      1.00       698\n",
            "           1       1.00      1.00      1.00       702\n",
            "\n",
            "    accuracy                           1.00      1400\n",
            "   macro avg       1.00      1.00      1.00      1400\n",
            "weighted avg       1.00      1.00      1.00      1400\n",
            "\n",
            "⋅ final training accuracy :  0.9978571428571429\n"
          ],
          "name": "stdout"
        }
      ]
    },
    {
      "cell_type": "markdown",
      "metadata": {
        "id": "EDlmC_ZM3V-f",
        "colab_type": "text"
      },
      "source": [
        "**Testing results**"
      ]
    },
    {
      "cell_type": "code",
      "metadata": {
        "id": "VL_V1Rc4fCzx",
        "colab_type": "code",
        "outputId": "78113e59-28a6-449d-c612-045a9434035a",
        "colab": {
          "base_uri": "https://localhost:8080/",
          "height": 260
        }
      },
      "source": [
        "print(\"⋅ confusion_matrix\\n\", confusion_matrix(y_test,y_pred_test))\n",
        "print(\"⋅ classification_report : \\n\", classification_report(y_test,y_pred_test))\n",
        "print(\"⋅ final testing accuracy : \", accuracy_score(y_test, y_pred_test))"
      ],
      "execution_count": 0,
      "outputs": [
        {
          "output_type": "stream",
          "text": [
            "⋅ confusion_matrix\n",
            " [[240  62]\n",
            " [ 56 242]]\n",
            "⋅ classification_report : \n",
            "               precision    recall  f1-score   support\n",
            "\n",
            "           0       0.81      0.79      0.80       302\n",
            "           1       0.80      0.81      0.80       298\n",
            "\n",
            "    accuracy                           0.80       600\n",
            "   macro avg       0.80      0.80      0.80       600\n",
            "weighted avg       0.80      0.80      0.80       600\n",
            "\n",
            "⋅ final testing accuracy :  0.8033333333333333\n"
          ],
          "name": "stdout"
        }
      ]
    },
    {
      "cell_type": "markdown",
      "metadata": {
        "id": "rnIR-ZZBjz9p",
        "colab_type": "text"
      },
      "source": [
        "# **4. Testing accuracy**"
      ]
    },
    {
      "cell_type": "code",
      "metadata": {
        "id": "FnNoN0TtkjTZ",
        "colab_type": "code",
        "outputId": "ade3539a-ff1c-4f87-9d71-302eacfc0dd0",
        "colab": {
          "base_uri": "https://localhost:8080/",
          "height": 35
        }
      },
      "source": [
        "print(\"final testing accuracy : \",  accuracy_score(y_test, y_pred_test)* 100, \"%\")"
      ],
      "execution_count": 0,
      "outputs": [
        {
          "output_type": "stream",
          "text": [
            "final testing accuracy :  80.33333333333333 %\n"
          ],
          "name": "stdout"
        }
      ]
    }
  ]
}
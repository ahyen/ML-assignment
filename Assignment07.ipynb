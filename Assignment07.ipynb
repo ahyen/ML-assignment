{
  "nbformat": 4,
  "nbformat_minor": 0,
  "metadata": {
    "colab": {
      "name": "Assignment07.ipynb",
      "provenance": [],
      "collapsed_sections": [],
      "mount_file_id": "1jfqoZJu6C6aks87ZEnDnhE_dHjjIrEon",
      "authorship_tag": "ABX9TyPgskUbU20/ziwZTuBrcgJL",
      "include_colab_link": true
    },
    "kernelspec": {
      "name": "python3",
      "display_name": "Python 3"
    }
  },
  "cells": [
    {
      "cell_type": "markdown",
      "metadata": {
        "id": "view-in-github",
        "colab_type": "text"
      },
      "source": [
        "<a href=\"https://colab.research.google.com/github/ahyen/ML-assignment/blob/master/Assignment07.ipynb\" target=\"_parent\"><img src=\"https://colab.research.google.com/assets/colab-badge.svg\" alt=\"Open In Colab\"/></a>"
      ]
    },
    {
      "cell_type": "code",
      "metadata": {
        "id": "nMVtw72hodtT",
        "colab_type": "code",
        "outputId": "0d915e49-a6cc-4d0b-e39d-57ab38b65297",
        "colab": {
          "base_uri": "https://localhost:8080/",
          "height": 297
        }
      },
      "source": [
        "import numpy as np\n",
        "import matplotlib.pyplot as plt\n",
        "\n",
        "data    = np.genfromtxt(\"data07-nonlinear.txt\", delimiter=',')\n",
        "\n",
        "x  = data[:, 0]\n",
        "y  = data[:, 1]\n",
        "label   = data[:, 2]\n",
        "\n",
        "pointX0 = x[label == 0]\n",
        "pointY0 = y[label == 0]\n",
        "\n",
        "pointX1 = x[label == 1]\n",
        "pointY1 = y[label == 1]\n",
        "\n",
        "plt.figure()\n",
        "plt.scatter(pointX0, pointY0, c='b')\n",
        "plt.scatter(pointX1, pointY1, c='r')\n",
        "plt.tight_layout()\n",
        "plt.gca().set_aspect('equal', adjustable='box')\n",
        "plt.show()"
      ],
      "execution_count": 36,
      "outputs": [
        {
          "output_type": "display_data",
          "data": {
            "image/png": "[encoded data removed]",
            "text/plain": [
              "<Figure size 432x288 with 1 Axes>"
            ]
          },
          "metadata": {
            "tags": [],
            "needs_background": "light"
          }
        }
      ]
    },
    {
      "cell_type": "code",
      "metadata": {
        "id": "34MpQCiXUqXT",
        "colab_type": "code",
        "colab": {}
      },
      "source": [
        "#define function for estimate training accuracy\n",
        "def accuracy(sigmoid) : \n",
        "  label_z = []\n",
        "  for i in sigmoid:\n",
        "    if i > 0.5:\n",
        "      i = 1\n",
        "    else : i = 0\n",
        "    label_z.append(i)\n",
        "\n",
        "  correct = 0\n",
        "  for i, j in zip(label_z, label):\n",
        "    if i ==j:\n",
        "      correct +=1\n",
        "  return correct/len(label)"
      ],
      "execution_count": 0,
      "outputs": []
    },
    {
      "cell_type": "code",
      "metadata": {
        "id": "PP5dl5adVjvU",
        "colab_type": "code",
        "colab": {
          "base_uri": "https://localhost:8080/",
          "height": 52
        },
        "outputId": "1c69c245-a0de-465e-f094-33723d899964"
      },
      "source": [
        "#make theta list\n",
        "np.random.seed(50)\n",
        "theta_list = np.random.randn(100)\n",
        "theta_list = theta_list.reshape(1, 100)\n",
        "print(theta_list.shape)\n",
        "\n",
        "#make x, y list\n",
        "xy_list = []\n",
        "for i in range(10):\n",
        "  for j in range(10):\n",
        "    xy_list.append((x**i) * (y**j))\n",
        "xy_list = np.array(xy_list)\n",
        "print(xy_list.shape)"
      ],
      "execution_count": 151,
      "outputs": [
        {
          "output_type": "stream",
          "text": [
            "(1, 100)\n",
            "(100, 118)\n"
          ],
          "name": "stdout"
        }
      ]
    },
    {
      "cell_type": "code",
      "metadata": {
        "id": "sp9BlqbBWCTo",
        "colab_type": "code",
        "colab": {}
      },
      "source": [
        "#set alpha, iteration and regularization parameters\n",
        "alpha = 0.01\n",
        "lambda_1 = 0.00001 \n",
        "lambda_2 = 0.005\n",
        "lambda_3 = 0.3\n",
        "# iteration = 50000\n",
        "iteration = 150000\n",
        "\n",
        "def training(alpha, lambda_, theta_list): \n",
        "\n",
        "  cost_list = []\n",
        "  accuracy_list = []\n",
        "\n",
        "  for i in range(iteration):\n",
        "    #hypothesis\n",
        "    z = (theta_list.dot(xy_list)).sum(axis = 0)\n",
        "    sigmoid_z = 1/(1 + np.exp(-z))\n",
        "    error = sigmoid_z - label\n",
        "    accuracy_list.append(accuracy(sigmoid_z))\n",
        "\n",
        "    #objective function\n",
        "    cost = (-label * np.log(sigmoid_z) - (1 - label) * np.log(1 - sigmoid_z)).mean() + (lambda_/2 * theta_list**2).sum()\n",
        "    cost_list.append(cost) \n",
        "\n",
        "    #gradient descent\n",
        "    theta_grad = []\n",
        "    for index in range(len(error)):\n",
        "      grad = xy_list[:, index]* error[index]\n",
        "      theta_grad.append(grad)\n",
        "\n",
        "    theta_grad = np.array(theta_grad).sum(axis=0) + lambda_ * theta_list\n",
        "    theta_list = theta_list - alpha *  theta_grad\n",
        "\n",
        "  return accuracy_list, cost_list, theta_list\n",
        "\n",
        "#training three other regularization parameter\n",
        "lambda1_accuracy_list, lambda1_cost_list, lambda1_theta_list = training(alpha, lambda_1, theta_list)\n",
        "lambda2_accuracy_list, lambda2_cost_list, lambda2_theta_list = training(alpha, lambda_2, theta_list)\n",
        "lambda3_accuracy_list, lambda3_cost_list, lambda3_theta_list = training(alpha, lambda_3, theta_list)"
      ],
      "execution_count": 0,
      "outputs": []
    },
    {
      "cell_type": "code",
      "metadata": {
        "id": "WhG-7hBHa8kE",
        "colab_type": "code",
        "colab": {
          "base_uri": "https://localhost:8080/",
          "height": 333
        },
        "outputId": "ea081a7d-0f00-4593-8341-b792931a21f6"
      },
      "source": [
        "#plot the value of the objective function at every optimization step\n",
        "plt.plot(range(0, iteration), lambda1_cost_list, 'red', label = 'over-fitting')\n",
        "plt.plot(range(0, iteration), lambda2_cost_list, 'green', label = 'just-right')\n",
        "plt.plot(range(0, iteration), lambda3_cost_list, 'blue', label = 'under-fitting')\n",
        "plt.title('training error')\n",
        "plt.legend(loc = 'best')\n",
        "print(lambda1_cost_list[-1])\n",
        "print(lambda2_cost_list[-1])\n",
        "print(lambda3_cost_list[-1])\n",
        "\n",
        "plt.show()"
      ],
      "execution_count": 153,
      "outputs": [
        {
          "output_type": "stream",
          "text": [
            "0.30524264223465264\n",
            "1.9418073034818253\n",
            "7.492258284674943\n"
          ],
          "name": "stdout"
        },
        {
          "output_type": "display_data",
          "data": {
            "image/png": "[encoded data removed]",
            "text/plain": [
              "<Figure size 432x288 with 1 Axes>"
            ]
          },
          "metadata": {
            "tags": [],
            "needs_background": "light"
          }
        }
      ]
    }
  ]
}
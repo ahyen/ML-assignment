{
  "nbformat": 4,
  "nbformat_minor": 0,
  "metadata": {
    "colab": {
      "name": "Assignment02.ipynb",
      "provenance": [],
      "collapsed_sections": [],
      "mount_file_id": "1C9KfDYYvLNutF-4fqkq-NjWNwvey1EJs",
      "authorship_tag": "ABX9TyMgzAesrEWTiPNqgatRZMde",
      "include_colab_link": true
    },
    "kernelspec": {
      "name": "python3",
      "display_name": "Python 3"
    },
    "accelerator": "GPU"
  },
  "cells": [
    {
      "cell_type": "markdown",
      "metadata": {
        "id": "view-in-github",
        "colab_type": "text"
      },
      "source": [
        "<a href=\"https://colab.research.google.com/github/ahyen/ML-assignment/blob/master/Assignment02.ipynb\" target=\"_parent\"><img src=\"https://colab.research.google.com/assets/colab-badge.svg\" alt=\"Open In Colab\"/></a>"
      ]
    },
    {
      "cell_type": "markdown",
      "metadata": {
        "id": "v39YcbfeMQ9O",
        "colab_type": "text"
      },
      "source": [
        "# **1. Input data**\n"
      ]
    },
    {
      "cell_type": "code",
      "metadata": {
        "id": "lgl7zEASJ7x6",
        "colab_type": "code",
        "colab": {}
      },
      "source": [
        "#import library\n",
        "import numpy as np\n",
        "import matplotlib.pyplot as plt"
      ],
      "execution_count": 0,
      "outputs": []
    },
    {
      "cell_type": "code",
      "metadata": {
        "id": "ySLbmGiQSCDX",
        "colab_type": "code",
        "colab": {}
      },
      "source": [
        "#generate linear function and random points\n",
        "np.random.seed(100)\n",
        "x=np.random.rand(100, 1)\n",
        "y_hat = 10*x + 3\n",
        "y = 10*x + 3 + 0.5*np.random.randn(100,1)"
      ],
      "execution_count": 0,
      "outputs": []
    },
    {
      "cell_type": "code",
      "metadata": {
        "id": "8LNs4NvMneG-",
        "colab_type": "code",
        "colab": {
          "base_uri": "https://localhost:8080/",
          "height": 267
        },
        "outputId": "50017729-98a2-4f64-9f60-d073e201f7e4"
      },
      "source": [
        "#plotting linear function and random points\n",
        "plt.plot(x, y_hat, color='blue')\n",
        "plt.scatter(x, y, color='black')\n",
        "plt.show()"
      ],
      "execution_count": 3,
      "outputs": [
        {
          "output_type": "display_data",
          "data": {
            "image/png": "[encoded data removed]",
            "text/plain": [
              "<Figure size 432x288 with 1 Axes>"
            ]
          },
          "metadata": {
            "tags": []
          }
        }
      ]
    }
  ]
}
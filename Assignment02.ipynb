{
  "nbformat": 4,
  "nbformat_minor": 0,
  "metadata": {
    "colab": {
      "name": "Assignment02.ipynb",
      "provenance": [],
      "collapsed_sections": [],
      "mount_file_id": "1C9KfDYYvLNutF-4fqkq-NjWNwvey1EJs",
      "authorship_tag": "ABX9TyO22QCvIIr8coxwJ2dtF+bz",
      "include_colab_link": true
    },
    "kernelspec": {
      "name": "python3",
      "display_name": "Python 3"
    },
    "accelerator": "GPU"
  },
  "cells": [
    {
      "cell_type": "markdown",
      "metadata": {
        "id": "view-in-github",
        "colab_type": "text"
      },
      "source": [
        "<a href=\"https://colab.research.google.com/github/ahyen/ML-assignment/blob/master/Assignment02.ipynb\" target=\"_parent\"><img src=\"https://colab.research.google.com/assets/colab-badge.svg\" alt=\"Open In Colab\"/></a>"
      ]
    },
    {
      "cell_type": "markdown",
      "metadata": {
        "id": "v39YcbfeMQ9O",
        "colab_type": "text"
      },
      "source": [
        "# **1. Input data**\n"
      ]
    },
    {
      "cell_type": "code",
      "metadata": {
        "id": "lgl7zEASJ7x6",
        "colab_type": "code",
        "colab": {}
      },
      "source": [
        "#import library\n",
        "import numpy as np\n",
        "import matplotlib.pyplot as plt"
      ],
      "execution_count": 0,
      "outputs": []
    },
    {
      "cell_type": "code",
      "metadata": {
        "id": "ySLbmGiQSCDX",
        "colab_type": "code",
        "colab": {}
      },
      "source": [
        "#generate linear function and random points\n",
        "np.random.seed(100)\n",
        "x=np.random.rand(100, 1)\n",
        "y_hat = 10*x + 3\n",
        "y = 10*x + 3 + 0.5*np.random.randn(100,1)"
      ],
      "execution_count": 0,
      "outputs": []
    },
    {
      "cell_type": "code",
      "metadata": {
        "id": "8LNs4NvMneG-",
        "colab_type": "code",
        "colab": {
          "base_uri": "https://localhost:8080/",
          "height": 267
        },
        "outputId": "50017729-98a2-4f64-9f60-d073e201f7e4"
      },
      "source": [
        "#plotting linear function and random points\n",
        "plt.plot(x, y_hat, color='blue')\n",
        "plt.scatter(x, y, color='black')\n",
        "plt.show()"
      ],
      "execution_count": 3,
      "outputs": [
        {
          "output_type": "display_data",
          "data": {
            "image/png": "[encoded data removed]",
            "text/plain": [
              "<Figure size 432x288 with 1 Axes>"
            ]
          },
          "metadata": {
            "tags": []
          }
        }
      ]
    },
    {
      "cell_type": "markdown",
      "metadata": {
        "id": "IM0vHZQqrY9K",
        "colab_type": "text"
      },
      "source": [
        "# **2. Output results**"
      ]
    },
    {
      "cell_type": "code",
      "metadata": {
        "id": "Az0rbCwFrZ9v",
        "colab_type": "code",
        "colab": {
          "base_uri": "https://localhost:8080/",
          "height": 267
        },
        "outputId": "9b268c50-fae8-483d-82c5-5d5f7db0f16b"
      },
      "source": [
        "#plotting the results\n",
        "plt.scatter(x, y, color='black')\n",
        "plt.plot(x, hypothesis, color='red')\n",
        "plt.show()"
      ],
      "execution_count": 7,
      "outputs": [
        {
          "output_type": "display_data",
          "data": {
            "image/png": "[encoded data removed]",
            "text/plain": [
              "<Figure size 432x288 with 1 Axes>"
            ]
          },
          "metadata": {
            "tags": []
          }
        }
      ]
    },
    {
      "cell_type": "markdown",
      "metadata": {
        "id": "HMTUku50oGK8",
        "colab_type": "text"
      },
      "source": [
        "# **3. Plotting the energy values**"
      ]
    },
    {
      "cell_type": "code",
      "metadata": {
        "id": "KdQ_DTdVoJrA",
        "colab_type": "code",
        "colab": {
          "base_uri": "https://localhost:8080/",
          "height": 35
        },
        "outputId": "9d5b124a-c9a1-406c-e146-0a11fbc02f34"
      },
      "source": [
        "#set theta0, theta1\n",
        "np.random.seed(100)\n",
        "theta0 = np.random.randn(1)\n",
        "theta1 = np.random.randn(1)\n",
        "\n",
        "#make list for save cost, theta0 and theta1\n",
        "cost_list = []\n",
        "theta0_list = []\n",
        "theta1_list = []\n",
        "\n",
        "#set learning rate and iteration\n",
        "alpha = 0.1\n",
        "iteration = 5000\n",
        "\n",
        "for i in range(iteration):\n",
        "\n",
        "  hypothesis = theta0 + theta1 * x\n",
        "  error = hypothesis - y\n",
        "  \n",
        "  #objective function\n",
        "  cost = (error ** 2).mean()\n",
        "  cost_list.append(cost)\n",
        "\n",
        "  #gradient descent\n",
        "  theta0_grad = error.mean()\n",
        "  theta1_grad = (error * x).mean()\n",
        "\n",
        "  theta0 = theta0 - alpha * (theta0_grad)\n",
        "  theta1 = theta1 - alpha * (theta1_grad)\n",
        "  \n",
        "  theta0_list.append(theta0)\n",
        "  theta1_list.append(theta1)\n",
        "\n",
        "#final theta0 and theta1\n",
        "print(theta0, theta1)"
      ],
      "execution_count": 4,
      "outputs": [
        {
          "output_type": "stream",
          "text": [
            "[2.99242988] [9.86232606]\n"
          ],
          "name": "stdout"
        }
      ]
    },
    {
      "cell_type": "code",
      "metadata": {
        "id": "yx4q33OyqgVa",
        "colab_type": "code",
        "colab": {
          "base_uri": "https://localhost:8080/",
          "height": 265
        },
        "outputId": "4e31f985-918d-48b7-b551-2b3e2bcab39a"
      },
      "source": [
        "#plot the value of the objective function at every optimization step\n",
        "plt.plot(range(0, iteration), cost_list, 'blue')\n",
        "plt.show()"
      ],
      "execution_count": 5,
      "outputs": [
        {
          "output_type": "display_data",
          "data": {
            "image/png": "[encoded data removed]",
            "text/plain": [
              "<Figure size 432x288 with 1 Axes>"
            ]
          },
          "metadata": {
            "tags": []
          }
        }
      ]
    },
    {
      "cell_type": "markdown",
      "metadata": {
        "id": "fSwMQsD3q4ll",
        "colab_type": "text"
      },
      "source": [
        "# **4. Plotting the model parameters**"
      ]
    },
    {
      "cell_type": "code",
      "metadata": {
        "id": "_X6PnxnAq8QL",
        "colab_type": "code",
        "colab": {
          "base_uri": "https://localhost:8080/",
          "height": 265
        },
        "outputId": "2334bcfc-9117-4bd8-93b7-1111ed535313"
      },
      "source": [
        "#plotting theta0 and theta1\n",
        "plt.plot(range(0, iteration), theta0_list, 'red')\n",
        "plt.plot(range(0, iteration), theta1_list,'blue')\n",
        "plt.show()"
      ],
      "execution_count": 6,
      "outputs": [
        {
          "output_type": "display_data",
          "data": {
            "image/png": "[encoded data removed]",
            "text/plain": [
              "<Figure size 432x288 with 1 Axes>"
            ]
          },
          "metadata": {
            "tags": []
          }
        }
      ]
    }
  ]
}
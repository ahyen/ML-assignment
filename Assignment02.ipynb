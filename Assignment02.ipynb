{
  "nbformat": 4,
  "nbformat_minor": 0,
  "metadata": {
    "colab": {
      "name": "Assignment02.ipynb",
      "provenance": [],
      "collapsed_sections": [],
      "mount_file_id": "1C9KfDYYvLNutF-4fqkq-NjWNwvey1EJs",
      "authorship_tag": "ABX9TyOlenioPrvZ6heAlBf19lrb",
      "include_colab_link": true
    },
    "kernelspec": {
      "name": "python3",
      "display_name": "Python 3"
    },
    "accelerator": "GPU"
  },
  "cells": [
    {
      "cell_type": "markdown",
      "metadata": {
        "id": "view-in-github",
        "colab_type": "text"
      },
      "source": [
        "<a href=\"https://colab.research.google.com/github/ahyen/ML-assignment/blob/master/Assignment02.ipynb\" target=\"_parent\"><img src=\"https://colab.research.google.com/assets/colab-badge.svg\" alt=\"Open In Colab\"/></a>"
      ]
    },
    {
      "cell_type": "markdown",
      "metadata": {
        "id": "v39YcbfeMQ9O",
        "colab_type": "text"
      },
      "source": [
        "# **1. Input data**\n"
      ]
    },
    {
      "cell_type": "code",
      "metadata": {
        "id": "lgl7zEASJ7x6",
        "colab_type": "code",
        "colab": {}
      },
      "source": [
        "#import library\n",
        "import numpy as np\n",
        "import matplotlib.pyplot as plt"
      ],
      "execution_count": 0,
      "outputs": []
    },
    {
      "cell_type": "code",
      "metadata": {
        "id": "ySLbmGiQSCDX",
        "colab_type": "code",
        "colab": {}
      },
      "source": [
        "#generate linear function and random points\n",
        "np.random.seed(100)\n",
        "x=np.random.rand(100, 1)\n",
        "y_hat = 10*x + 3\n",
        "y = 10*x + 3 + 0.5*np.random.randn(100,1)"
      ],
      "execution_count": 0,
      "outputs": []
    }
  ]
}
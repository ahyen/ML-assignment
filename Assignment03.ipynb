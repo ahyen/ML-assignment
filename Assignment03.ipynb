{
  "nbformat": 4,
  "nbformat_minor": 0,
  "metadata": {
    "colab": {
      "name": "Assignment03.ipynb",
      "provenance": [],
      "mount_file_id": "1wJe8DAf3hCWn9uNnOxs4bRcBKzkEFn6k",
      "authorship_tag": "ABX9TyO905ZlCuj/5QPBph2s0c6G",
      "include_colab_link": true
    },
    "kernelspec": {
      "name": "python3",
      "display_name": "Python 3"
    },
    "accelerator": "GPU"
  },
  "cells": [
    {
      "cell_type": "markdown",
      "metadata": {
        "id": "view-in-github",
        "colab_type": "text"
      },
      "source": [
        "<a href=\"https://colab.research.google.com/github/ahyen/ML-assignment/blob/master/Assignment03.ipynb\" target=\"_parent\"><img src=\"https://colab.research.google.com/assets/colab-badge.svg\" alt=\"Open In Colab\"/></a>"
      ]
    },
    {
      "cell_type": "code",
      "metadata": {
        "id": "PChtazp6UWVn",
        "colab_type": "code",
        "colab": {
          "base_uri": "https://localhost:8080/",
          "height": 35
        },
        "outputId": "c2bea02b-eb9c-4123-c9de-5ca9e2fcab7f"
      },
      "source": [
        "cd ../content/drive/My Drive/Colab Notebooks/ML"
      ],
      "execution_count": 1,
      "outputs": [
        {
          "output_type": "stream",
          "text": [
            "/content/drive/My Drive/Colab Notebooks/ML\n"
          ],
          "name": "stdout"
        }
      ]
    },
    {
      "cell_type": "markdown",
      "metadata": {
        "id": "c1vefs9ZVrDD",
        "colab_type": "text"
      },
      "source": [
        "# **1. Input points**"
      ]
    },
    {
      "cell_type": "code",
      "metadata": {
        "id": "jnWbKKToVyMN",
        "colab_type": "code",
        "colab": {}
      },
      "source": [
        "import numpy as np\n",
        "import matplotlib.pyplot as plt\n",
        "\n",
        "#load data\n",
        "path = \"data.csv\"\n",
        "data = np.genfromtxt(path, delimiter = ',')\n",
        "\n",
        "x_data = data[:, 0]\n",
        "y_data = data[:, 1]"
      ],
      "execution_count": 0,
      "outputs": []
    }
  ]
}
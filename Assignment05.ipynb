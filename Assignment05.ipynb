{
  "nbformat": 4,
  "nbformat_minor": 0,
  "metadata": {
    "colab": {
      "name": "Assignment05.ipynb",
      "provenance": [],
      "mount_file_id": "1BttdBHKL89GFKaAECzx5rnwWBTi7KwIR",
      "authorship_tag": "ABX9TyNHiAV9tiqq/gMbsijNKFCM",
      "include_colab_link": true
    },
    "kernelspec": {
      "name": "python3",
      "display_name": "Python 3"
    }
  },
  "cells": [
    {
      "cell_type": "markdown",
      "metadata": {
        "id": "view-in-github",
        "colab_type": "text"
      },
      "source": [
        "<a href=\"https://colab.research.google.com/github/ahyen/ML-assignment/blob/master/Assignment05.ipynb\" target=\"_parent\"><img src=\"https://colab.research.google.com/assets/colab-badge.svg\" alt=\"Open In Colab\"/></a>"
      ]
    },
    {
      "cell_type": "code",
      "metadata": {
        "id": "SPwXd2oLAukm",
        "colab_type": "code",
        "outputId": "c5c99e05-6492-4f44-e134-8696dcdf7dfe",
        "colab": {
          "base_uri": "https://localhost:8080/",
          "height": 35
        }
      },
      "source": [
        "cd ../content/drive/My Drive/Colab Notebooks/ML"
      ],
      "execution_count": 1,
      "outputs": [
        {
          "output_type": "stream",
          "text": [
            "/content/drive/My Drive/Colab Notebooks/ML\n"
          ],
          "name": "stdout"
        }
      ]
    },
    {
      "cell_type": "markdown",
      "metadata": {
        "id": "PYfnEL6zYork",
        "colab_type": "text"
      },
      "source": [
        "# **1. Plot the training data**"
      ]
    },
    {
      "cell_type": "code",
      "metadata": {
        "id": "7iX6geW-BmGP",
        "colab_type": "code",
        "outputId": "3924c403-f13f-441a-a328-4c1a6c3a13ff",
        "colab": {
          "base_uri": "https://localhost:8080/",
          "height": 483
        }
      },
      "source": [
        "import numpy as np\n",
        "import matplotlib.pyplot as plt\n",
        "\n",
        "data    = np.genfromtxt(\"data.txt\", delimiter=',')\n",
        "\n",
        "x       = data[:, 0]\n",
        "y       = data[:, 1]\n",
        "label   = data[:, 2]\n",
        "\n",
        "x_label0    = x[label == 0]\n",
        "x_label1    = x[label == 1]\n",
        "\n",
        "y_label0    = y[label == 0]\n",
        "y_label1    = y[label == 1]\n",
        "\n",
        "plt.figure(figsize=(8, 8))\n",
        "plt.scatter(x_label0, y_label0, alpha=0.3, c='b')\n",
        "plt.scatter(x_label1, y_label1, alpha=0.3, c='r')\n",
        "plt.show()\n"
      ],
      "execution_count": 12,
      "outputs": [
        {
          "output_type": "display_data",
          "data": {
            "image/png": "[encoded data removed]",
            "text/plain": [
              "<Figure size 576x576 with 1 Axes>"
            ]
          },
          "metadata": {
            "tags": [],
            "needs_background": "light"
          }
        }
      ]
    },
    {
      "cell_type": "markdown",
      "metadata": {
        "id": "kyliqN3ectMC",
        "colab_type": "text"
      },
      "source": [
        "# **2. Plot the estimated parameters**"
      ]
    },
    {
      "cell_type": "code",
      "metadata": {
        "id": "cIea_HGmahan",
        "colab_type": "code",
        "colab": {
          "base_uri": "https://localhost:8080/",
          "height": 35
        },
        "outputId": "d0ed5ece-0302-47d2-e482-6fa9bf665e22"
      },
      "source": [
        "np.random.seed(50)\n",
        "theta0 = np.random.randn(1)\n",
        "theta1 = np.random.randn(1)\n",
        "theta2 = np.random.randn(1)\n",
        "\n",
        "cost_list = []\n",
        "theta0_list = []\n",
        "theta1_list = []\n",
        "theta2_list = []\n",
        "\n",
        "alpha = 0.000005\n",
        "iteration = 100000\n",
        "\n",
        "\n",
        "for i in range(iteration):\n",
        "\n",
        "  theta0_list.append(theta0)\n",
        "  theta1_list.append(theta1)\n",
        "  theta2_list.append(theta2)\n",
        "\n",
        "  #hypothesis\n",
        "  z = theta0 + theta1*x + theta2*y\n",
        "  sigmoid_z = 1/(1 + np.exp(-z))\n",
        "  error = sigmoid_z - label\n",
        "\n",
        "  #objective function\n",
        "  cost = (-label * np.log(sigmoid_z) - (1 - label) * np.log(1 - sigmoid_z)).mean()\n",
        "  cost_list.append(cost)\n",
        "\n",
        "  #gradient descent\n",
        "  theta0_grad = error.mean()\n",
        "  theta1_grad = (error * x).mean()\n",
        "  theta2_grad = (error * y).mean()\n",
        "  \n",
        "  theta0 = theta0 - alpha * (theta0_grad)\n",
        "  theta1 = theta1 - alpha * (theta1_grad)\n",
        "  theta2 = theta2 - alpha * (theta2_grad)\n",
        "  \n",
        "print(theta0, theta1, theta2)"
      ],
      "execution_count": 134,
      "outputs": [
        {
          "output_type": "stream",
          "text": [
            "[-1.5835578] [0.02156187] [0.01281933]\n"
          ],
          "name": "stdout"
        }
      ]
    },
    {
      "cell_type": "code",
      "metadata": {
        "id": "xt9t3HIOdnX7",
        "colab_type": "code",
        "colab": {
          "base_uri": "https://localhost:8080/",
          "height": 265
        },
        "outputId": "f997dbb5-9013-4211-b8db-0b66ab1c4371"
      },
      "source": [
        "#plotting theta0, theta1 and theta2\n",
        "plt.plot(range(0, iteration), theta0_list, 'red')\n",
        "plt.plot(range(0, iteration), theta1_list,'green')\n",
        "plt.plot(range(0, iteration), theta2_list,'blue')\n",
        "plt.show()"
      ],
      "execution_count": 135,
      "outputs": [
        {
          "output_type": "display_data",
          "data": {
            "image/png": "[encoded data removed]",
            "text/plain": [
              "<Figure size 432x288 with 1 Axes>"
            ]
          },
          "metadata": {
            "tags": [],
            "needs_background": "light"
          }
        }
      ]
    },
    {
      "cell_type": "markdown",
      "metadata": {
        "id": "toXkB1uFgdaJ",
        "colab_type": "text"
      },
      "source": [
        "# **3. Plot the training error**"
      ]
    },
    {
      "cell_type": "code",
      "metadata": {
        "id": "AreVzkZBga-p",
        "colab_type": "code",
        "colab": {
          "base_uri": "https://localhost:8080/",
          "height": 281
        },
        "outputId": "1420996d-1284-4c92-e301-b12b71d7e44e"
      },
      "source": [
        "#plot the value of the objective function at every optimization step\n",
        "plt.plot(range(0, iteration), cost_list, 'blue')\n",
        "plt.title('training error')\n",
        "plt.show()"
      ],
      "execution_count": 136,
      "outputs": [
        {
          "output_type": "display_data",
          "data": {
            "image/png": "[encoded data removed]",
            "text/plain": [
              "<Figure size 432x288 with 1 Axes>"
            ]
          },
          "metadata": {
            "tags": [],
            "needs_background": "light"
          }
        }
      ]
    }
  ]
}